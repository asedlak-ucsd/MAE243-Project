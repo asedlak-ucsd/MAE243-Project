{
 "cells": [
  {
   "cell_type": "markdown",
   "id": "14620f26-1fd1-434d-b51b-15523a568e25",
   "metadata": {},
   "source": [
    "# Model Formulation\n",
    "\n",
    "This notebook can be used to run initial model with DCOPF and a basic budget variable. Before running this nodebook please refer to `Test-System-Data-Processing.ipynb` to preprocess generator, lines, buses, and loads data. "
   ]
  },
  {
   "cell_type": "code",
   "execution_count": 76,
   "id": "6a1fde6e-1296-4a9b-af6a-09084880e61b",
   "metadata": {},
   "outputs": [
    {
     "data": {
      "text/plain": [
       "expansion (generic function with 2 methods)"
      ]
     },
     "execution_count": 76,
     "metadata": {},
     "output_type": "execute_result"
    }
   ],
   "source": [
    "using JuMP, Gurobi\n",
    "using DataFrames, CSV\n",
    "\n",
    "include(joinpath(\"capex_model\", \"expansion_tools.jl\"))\n",
    "include(joinpath(\"capex_model\", \"model.jl\"))"
   ]
  },
  {
   "cell_type": "code",
   "execution_count": null,
   "id": "c437c65e-0d77-48df-8e53-09f99b198c29",
   "metadata": {},
   "outputs": [],
   "source": []
  },
  {
   "cell_type": "code",
   "execution_count": 79,
   "id": "43bc2507-f1f2-49fe-9d81-120069220be1",
   "metadata": {
    "scrolled": true
   },
   "outputs": [
    {
     "name": "stdout",
     "output_type": "stream",
     "text": [
      "Set parameter Username\n",
      "Set parameter LicenseID to value 2669913\n",
      "Academic license - for non-commercial use only - expires 2026-05-22\n",
      "Gurobi Optimizer version 12.0.2 build v12.0.2rc0 (mac64[arm] - Darwin 24.5.0 24F74)\n",
      "\n",
      "CPU model: Apple M2 Ultra\n",
      "Thread count: 24 physical cores, 24 logical processors, using up to 24 threads\n",
      "\n",
      "Optimize a model with 713856 rows, 483481 columns and 1585663 nonzeros\n",
      "Model fingerprint: 0x4e823fa1\n",
      "Coefficient statistics:\n",
      "  Matrix range     [6e-03, 1e+07]\n",
      "  Objective range  [7e+00, 1e+03]\n",
      "  Bounds range     [0e+00, 0e+00]\n",
      "  RHS range        [8e-03, 3e+03]\n",
      "Presolve removed 482025 rows and 263511 columns\n",
      "Presolve time: 0.73s\n",
      "Presolved: 231831 rows, 219970 columns, 853505 nonzeros\n",
      "\n",
      "Concurrent LP optimizer: primal simplex, dual simplex, and barrier\n",
      "Showing barrier log only...\n",
      "\n",
      "Ordering time: 2.88s\n",
      "Ordering time: 4.93s\n",
      "\n",
      "Barrier statistics:\n",
      " Dense cols : 478\n",
      " Free vars  : 536\n",
      " AA' NZ     : 1.117e+06\n",
      " Factor NZ  : 1.612e+07 (roughly 300 MB of memory)\n",
      " Factor Ops : 7.004e+09 (less than 1 second per iteration)\n",
      " Threads    : 22\n",
      "\n",
      "                  Objective                Residual\n",
      "Iter       Primal          Dual         Primal    Dual     Compl     Time\n",
      "   0   1.50792357e+12 -2.47450589e+12  1.31e+05 6.80e+04  1.80e+09     6s\n",
      "   1   6.63410688e+11 -1.49405183e+12  5.83e+04 1.97e+04  7.00e+08     6s\n",
      "   2   2.72168128e+11 -1.07740943e+12  2.39e+04 4.18e+03  2.48e+08     7s\n",
      "   3   7.31192507e+10 -8.37293555e+11  5.91e+03 8.25e+02  6.18e+07     7s\n",
      "   4   3.40649130e+10 -6.33892246e+11  1.15e+03 2.17e+02  1.39e+07     7s\n",
      "   5   2.46227628e+10 -4.54730719e+11  3.41e+02 6.83e+01  4.66e+06     7s\n",
      "   6   1.89473668e+10 -2.15111176e+11  2.68e+01 1.00e+01  8.53e+05     7s\n",
      "   7   1.00328056e+10 -5.30482036e+10  2.36e+00 1.67e+00  1.70e+05     7s\n",
      "   8   2.96851500e+09 -9.39300684e+09  2.14e+00 2.06e-01  2.72e+04     7s\n",
      "   9   1.63372879e+09 -6.14572486e+09  2.15e+00 1.31e-01  1.67e+04     8s\n",
      "  10   6.65141640e+08 -4.66296091e+09  2.15e+00 1.00e-01  1.12e+04     8s\n",
      "  11   4.11834247e+08 -3.52690487e+09  1.59e+00 7.52e-02  8.27e+03     8s\n",
      "  12   3.30888737e+08 -2.60514672e+09  1.55e+00 5.46e-02  6.19e+03     9s\n",
      "  13   2.02965706e+08 -2.34709289e+09  1.41e+00 4.83e-02  5.32e+03     9s\n",
      "  14   1.68927251e+08 -1.97873936e+09  1.31e+00 4.05e-02  4.49e+03     9s\n",
      "  15   1.08170713e+08 -1.67748057e+09  1.12e+00 3.42e-02  3.75e+03    10s\n",
      "  16   7.66432485e+07 -1.12431879e+09  6.83e-01 2.15e-02  2.42e+03    10s\n",
      "  17   5.71781414e+07 -8.28073388e+08  5.11e-01 1.51e-02  1.72e+03    10s\n",
      "  18   4.77130061e+07 -5.57684288e+08  5.11e-01 9.18e-03  1.08e+03    10s\n",
      "  19   4.19485243e+07 -4.35420431e+08  5.11e-01 6.63e-03  7.85e+02    11s\n",
      "  20   3.64256187e+07 -3.66606210e+08  5.11e-01 5.07e-03  6.13e+02    11s\n",
      "  21   2.95335767e+07 -2.76780284e+08  5.11e-01 3.06e-03  3.91e+02    11s\n",
      "  22   2.10784926e+07 -2.17496137e+08  5.11e-01 1.78e-03  2.35e+02    11s\n",
      "  23   1.73530242e+07 -1.83987302e+08  5.11e-01 1.12e-03  1.51e+02    12s\n",
      "  24   1.54516889e+07 -1.73619937e+08  5.11e-01 9.15e-04  1.23e+02    12s\n",
      "  25   1.43535636e+07 -1.65308908e+08  5.11e-01 7.47e-04  1.03e+02    12s\n",
      "  26   1.19880652e+07 -1.48649660e+08  5.11e-01 4.39e-04  6.43e+01    12s\n",
      "  27   1.09542308e+07 -1.45490995e+08  5.11e-01 3.79e-04  5.51e+01    12s\n",
      "  28   9.75218492e+06 -1.38078664e+08  5.11e-01 2.41e-04  3.66e+01    12s\n",
      "  29   9.50481602e+06 -1.35960710e+08  5.11e-01 2.04e-04  3.19e+01    13s\n",
      "  30   8.88771902e+06 -1.33478604e+08  5.11e-01 1.63e-04  2.59e+01    13s\n",
      "  31   8.80957790e+06 -1.32787626e+08  5.11e-01 1.57e-04  2.50e+01    13s\n",
      "  32   8.50227982e+06 -1.26112543e+08  1.81e+00 1.53e-04  2.40e+01    13s\n",
      "  33   8.20900222e+06 -1.25187403e+08  1.61e+00 1.38e-04  2.16e+01    13s\n",
      "  34   7.71907676e+06 -1.23422906e+08  1.27e+00 1.10e-04  1.73e+01    14s\n",
      "  35   7.62822303e+06 -1.23256049e+08  1.21e+00 1.07e-04  1.67e+01    14s\n",
      "  36   7.51364960e+06 -1.22055000e+08  1.13e+00 9.03e-05  1.44e+01    14s\n",
      "  37   7.47752695e+06 -1.21792640e+08  1.10e+00 8.71e-05  1.40e+01    14s\n",
      "  38   7.34187794e+06 -1.21732347e+08  1.01e+00 8.62e-05  1.36e+01    14s\n",
      "  39   7.25998253e+06 -1.20272823e+08  9.47e-01 7.75e-05  1.10e+01    14s\n",
      "  40   7.09173266e+06 -1.19842294e+08  8.31e-01 7.53e-05  1.00e+01    15s\n",
      "  41   6.98242085e+06 -1.19351984e+08  7.60e-01 7.20e-05  9.09e+00    15s\n",
      "  42   6.95489190e+06 -1.19168265e+08  7.41e-01 7.04e-05  8.78e+00    15s\n",
      "  43   6.76765359e+06 -1.18814174e+08  6.15e-01 6.50e-05  7.91e+00    15s\n",
      "  44   6.68037518e+06 -1.17586653e+08  5.53e-01 6.39e-05  6.11e+00    15s\n",
      "  45   6.67875803e+06 -1.17558771e+08  5.52e-01 6.40e-05  6.09e+00    16s\n",
      "  46   6.67655959e+06 -1.17541278e+08  5.50e-01 6.43e-05  6.05e+00    16s\n",
      "  47   6.64556298e+06 -1.17446419e+08  5.31e-01 6.41e-05  5.90e+00    16s\n",
      "  48   6.64048915e+06 -1.17435246e+08  5.28e-01 6.40e-05  5.85e+00    17s\n",
      "  49   6.63822339e+06 -1.17273406e+08  5.27e-01 6.37e-05  5.73e+00    17s\n",
      "  50   6.62529320e+06 -1.17184608e+08  5.19e-01 7.92e-05  5.62e+00    17s\n",
      "  51   6.61373206e+06 -1.17164642e+08  5.12e-01 8.15e-05  5.59e+00    17s\n",
      "  52   6.60530364e+06 -1.17131417e+08  5.11e-01 8.42e-05  5.56e+00    17s\n",
      "  53   6.58639638e+06 -1.16969162e+08  5.11e-01 8.58e-05  5.41e+00    18s\n",
      "  54   6.54999221e+06 -1.16848944e+08  5.11e-01 6.38e-05  5.21e+00    18s\n",
      "  55   6.48448678e+06 -1.16287555e+08  5.11e-01 6.50e-05  4.51e+00    18s\n",
      "  56   6.45556454e+06 -1.16171393e+08  5.11e-01 6.48e-05  4.34e+00    19s\n",
      "  57   6.44039408e+06 -1.16002802e+08  5.11e-01 6.42e-05  4.18e+00    19s\n",
      "  58   6.41429760e+06 -1.15830144e+08  5.11e-01 6.34e-05  3.99e+00    19s\n",
      "  59   6.39195605e+06 -1.15649064e+08  5.11e-01 6.35e-05  3.81e+00    19s\n",
      "  60   6.33252894e+06 -1.15357642e+08  5.11e-01 6.02e-05  3.57e+00    20s\n",
      "  61   6.29732214e+06 -1.15070593e+08  5.11e-01 5.66e-05  3.38e+00    20s\n",
      "  62   6.27183631e+06 -1.14972362e+08  5.11e-01 5.59e-05  3.28e+00    20s\n",
      "  63   6.26664233e+06 -1.14881526e+08  5.11e-01 5.61e-05  3.26e+00    20s\n",
      "  64   6.24657287e+06 -1.14680210e+08  5.11e-01 5.51e-05  3.20e+00    21s\n",
      "  65   6.22656373e+06 -1.14168947e+08  5.11e-01 5.19e-05  3.10e+00    21s\n",
      "  66   6.21190072e+06 -1.13895161e+08  5.11e-01 5.08e-05  3.04e+00    21s\n",
      "  67   6.20447559e+06 -1.13753274e+08  5.11e-01 4.98e-05  2.99e+00    22s\n",
      "  68   6.19325682e+06 -1.13639518e+08  5.11e-01 4.99e-05  2.94e+00    22s\n",
      "  69   6.18554808e+06 -1.10374120e+08  5.11e-01 5.27e-05  2.88e+00    22s\n",
      "  70   6.16817787e+06 -1.10233985e+08  5.11e-01 5.54e-05  2.79e+00    22s\n",
      "  71   6.16727600e+06 -1.10134808e+08  5.11e-01 5.53e-05  2.79e+00    22s\n",
      "  72   6.16670790e+06 -1.07500018e+08  5.11e-01 5.51e-05  2.75e+00    22s\n",
      "  73   6.14760823e+06 -1.07434738e+08  5.11e-01 5.55e-05  2.68e+00    23s\n",
      "  74   6.12683493e+06 -1.07288361e+08  5.11e-01 5.83e-05  2.55e+00    23s\n",
      "  75   6.10459715e+06 -1.07217664e+08  5.11e-01 5.32e-05  2.48e+00    23s\n",
      "  76   6.09593277e+06 -1.04932081e+08  5.11e-01 5.33e-05  2.43e+00    24s\n",
      "  77   6.06767647e+06 -1.04660037e+08  5.11e-01 4.73e-05  2.23e+00    24s\n",
      "  78   6.03833111e+06 -1.04420260e+08  5.11e-01 4.39e-05  2.05e+00    24s\n",
      "  79   6.03595565e+06 -1.02903409e+08  5.11e-01 4.36e-05  2.03e+00    24s\n",
      "  80   6.03137458e+06 -9.98457867e+07  5.11e-01 6.93e-05  1.98e+00    25s\n",
      "  81   6.01189992e+06 -9.97974127e+07  5.11e-01 6.75e-05  1.94e+00    25s\n",
      "  82   6.01187764e+06 -9.93971179e+07  5.11e-01 6.68e-05  1.93e+00    25s\n",
      "  83   6.01107887e+06 -1.00084686e+08  5.11e-01 6.68e-05  1.95e+00    25s\n",
      "  84   6.00407089e+06 -1.00805771e+08  5.11e-01 6.58e-05  2.04e+00    26s\n",
      "  85   5.99993828e+06 -1.00886479e+08  5.11e-01 6.44e-05  2.11e+00    26s\n",
      "  86   5.99984880e+06 -1.01682396e+08  5.11e-01 6.34e-05  2.14e+00    26s\n",
      "  87   5.99711554e+06 -1.41607840e+08  5.11e-01 6.23e-05  4.82e+00    27s\n",
      "  88   5.99329119e+06 -1.37389474e+08  5.11e-01 6.18e-05  5.03e+00    27s\n",
      "  89   5.98614609e+06 -1.30638387e+08  5.11e-01 6.07e-05  5.42e+00    28s\n",
      "  90   5.97498345e+06 -1.30389700e+08  5.11e-01 5.22e-05  5.13e+00    28s\n",
      "  91   5.95916550e+06 -1.30194607e+08  5.11e-01 4.94e-05  4.87e+00    28s\n",
      "  92   5.95767174e+06 -1.29868200e+08  5.11e-01 4.91e-05  4.87e+00    29s\n",
      "  93   5.95173417e+06 -1.29284323e+08  5.11e-01 4.87e-05  5.49e+00    29s\n",
      "  94   5.93947913e+06 -1.29258182e+08  5.11e-01 4.78e-05  5.36e+00    29s\n",
      "  95   5.93767334e+06 -1.29191346e+08  5.11e-01 4.33e-05  5.32e+00    30s\n",
      "  96   5.93655193e+06 -1.29167827e+08  5.11e-01 4.33e-05  5.31e+00    30s\n",
      "  97   5.93057763e+06 -1.29119484e+08  5.11e-01 5.55e-05  5.23e+00    30s\n",
      "  98   5.92617848e+06 -1.29107108e+08  5.11e-01 5.82e-05  5.19e+00    30s\n",
      "  99   5.92459814e+06 -1.29093235e+08  5.11e-01 6.10e-05  5.17e+00    30s\n",
      " 100   5.92386751e+06 -1.29069472e+08  5.11e-01 6.33e-05  5.16e+00    30s\n",
      " 101   5.92252342e+06 -1.29066665e+08  5.11e-01 6.36e-05  5.14e+00    31s\n",
      " 102   5.92179364e+06 -1.29061443e+08  5.11e-01 6.37e-05  5.14e+00    31s\n",
      "\n",
      "Barrier performed 102 iterations in 31.02 seconds (45.07 work units)\n",
      "Numerical trouble encountered\n",
      "\n",
      "Model may be infeasible or unbounded.  Consider using the\n",
      "homogeneous algorithm (through parameter 'BarHomogeneous')\n",
      "\n",
      "Waiting for other threads to finish...          92s\n",
      "Waiting for other threads to finish...         152s\n",
      "\n",
      "Solved with dual simplex\n",
      "Iteration    Objective       Primal Inf.    Dual Inf.      Time\n",
      "  233047    1.9836556e+06   0.000000e+00   0.000000e+00    177s\n",
      "\n",
      "Solved in 233047 iterations and 177.02 seconds (236.36 work units)\n",
      "Optimal objective  1.983655576e+06\n",
      "\n",
      "User-callback calls 115767, time in user-callback 0.05 sec\n"
     ]
    }
   ],
   "source": [
    "#run_model(load, basic_capex, save, \"san_diego_system\", \"test_senario\")\n",
    "(buses, lines, gens, loads, variability, P) = load(\"san_diego_system\")\n",
    "model = expansion(buses, lines, gens, loads, variability, P)\n",
    "save(model, \"san_diego_system\", \"test_senario\", buses, lines, gens, loads);\n",
    "\n",
    "# start 5:36"
   ]
  },
  {
   "cell_type": "code",
   "execution_count": null,
   "id": "50bc7331-3111-4e04-8654-6e6b3d85c59f",
   "metadata": {},
   "outputs": [],
   "source": [
    "#91s with contraints on new cap\n",
    "#16s with no constraints on new cap\n",
    "#7s with no constraints on cap or angles\n",
    "\n",
    "\n",
    "# 3mins to solve one week (with/without angle constraints)"
   ]
  },
  {
   "cell_type": "code",
   "execution_count": 62,
   "id": "d981d47e-940b-4c9b-805c-b1f3498c6c57",
   "metadata": {},
   "outputs": [
    {
     "data": {
      "text/plain": [
       "49"
      ]
     },
     "execution_count": 62,
     "metadata": {},
     "output_type": "execute_result"
    }
   ],
   "source": [
    "7*7"
   ]
  },
  {
   "cell_type": "code",
   "execution_count": 81,
   "id": "02978a7d-58b2-4732-b7d5-0726b6ec15b9",
   "metadata": {},
   "outputs": [
    {
     "data": {
      "text/plain": [
       "2.95"
      ]
     },
     "execution_count": 81,
     "metadata": {},
     "output_type": "execute_result"
    }
   ],
   "source": [
    "177/60"
   ]
  },
  {
   "cell_type": "code",
   "execution_count": null,
   "id": "7365a844-fa0d-4305-b196-5126d10943ea",
   "metadata": {},
   "outputs": [],
   "source": []
  },
  {
   "cell_type": "code",
   "execution_count": null,
   "id": "a24c49d7-4b0e-41d0-b981-9437cff5037b",
   "metadata": {},
   "outputs": [],
   "source": [
    "# TODOs \n",
    "# - Ramping <=== seems important...\n",
    "# - Get correct costs\n",
    "\n",
    "\n",
    "## EXTRA\n",
    "# Quardatic costs\n",
    "\n",
    "\n",
    "\n",
    "## Questions for Qi ##\n",
    "# a) costs? How do you handel the fact that costs are quadratic? Also why do they include c0?\n",
    "# b) 1e-8 * 100 * (2700000 / 20 + 12500) # What are the units of this? and why do batteries cost less than solar??\n",
    "\n",
    "\n",
    "# 3 mins to solve 1 week of cap ex"
   ]
  }
 ],
 "metadata": {
  "kernelspec": {
   "display_name": "Julia 1.8.3",
   "language": "julia",
   "name": "julia-1.8"
  },
  "language_info": {
   "file_extension": ".jl",
   "mimetype": "application/julia",
   "name": "julia",
   "version": "1.8.3"
  }
 },
 "nbformat": 4,
 "nbformat_minor": 5
}
