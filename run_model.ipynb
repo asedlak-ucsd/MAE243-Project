{
 "cells": [
  {
   "cell_type": "markdown",
   "id": "14620f26-1fd1-434d-b51b-15523a568e25",
   "metadata": {},
   "source": [
    "# Model Formulation\n",
    "\n",
    "This notebook can be used to run initial model with DCOPF and a basic budget variable. Before running this nodebook please refer to `Test-System-Data-Processing.ipynb` to preprocess generator, lines, buses, and loads data. "
   ]
  },
  {
   "cell_type": "code",
   "execution_count": 13,
   "id": "6a1fde6e-1296-4a9b-af6a-09084880e61b",
   "metadata": {},
   "outputs": [
    {
     "data": {
      "text/plain": [
       "expansion (generic function with 1 method)"
      ]
     },
     "execution_count": 13,
     "metadata": {},
     "output_type": "execute_result"
    }
   ],
   "source": [
    "using JuMP, Gurobi\n",
    "using DataFrames, CSV\n",
    "\n",
    "include(joinpath(\"capex_model\", \"expansion_tools.jl\"))\n",
    "include(joinpath(\"capex_model\", \"model.jl\"))"
   ]
  },
  {
   "cell_type": "code",
   "execution_count": 15,
   "id": "43bc2507-f1f2-49fe-9d81-120069220be1",
   "metadata": {
    "scrolled": true
   },
   "outputs": [
    {
     "name": "stdout",
     "output_type": "stream",
     "text": [
      "Set parameter Username\n",
      "Set parameter LicenseID to value 2669913\n",
      "Academic license - for non-commercial use only - expires 2026-05-22\n",
      "\n",
      "Model init okay.\n",
      "Max constraints okay.\n",
      "Storage constraints okay.\n",
      "Power flow constraints okay.\n",
      "Model setup done! Starting optimization...\n",
      "Gurobi Optimizer version 12.0.2 build v12.0.2rc0 (mac64[arm] - Darwin 24.5.0 24F74)\n",
      "\n",
      "CPU model: Apple M2 Ultra\n",
      "Thread count: 24 physical cores, 24 logical processors, using up to 24 threads\n",
      "\n",
      "Optimize a model with 1520641 rows, 1029550 columns and 3376952 nonzeros\n",
      "Model fingerprint: 0x2309ace5\n",
      "Coefficient statistics:\n",
      "  Matrix range     [1e-03, 1e+07]\n",
      "  Objective range  [7e+00, 3e+05]\n",
      "  Bounds range     [0e+00, 0e+00]\n",
      "  RHS range        [1e-03, 3e+03]\n",
      "Presolve removed 1330367 rows and 769162 columns\n",
      "Presolve time: 1.31s\n",
      "Presolved: 190274 rows, 260388 columns, 973335 nonzeros\n",
      "\n",
      "Concurrent LP optimizer: primal simplex, dual simplex, and barrier\n",
      "Showing barrier log only...\n",
      "\n",
      "Ordering time: 0.10s\n",
      "\n",
      "Barrier statistics:\n",
      " Free vars  : 2956\n",
      " AA' NZ     : 1.558e+06\n",
      " Factor NZ  : 3.737e+06 (roughly 200 MB of memory)\n",
      " Factor Ops : 8.885e+07 (less than 1 second per iteration)\n",
      " Threads    : 22\n",
      "\n",
      "                  Objective                Residual\n",
      "Iter       Primal          Dual         Primal    Dual     Compl     Time\n",
      "   0   3.86300893e+14 -3.31129184e+15  7.22e+03 2.11e+08  2.54e+11     2s\n",
      "   1   2.35228865e+14 -3.10221919e+15  4.39e+03 8.43e+07  1.53e+11     2s\n",
      "   2   2.12517204e+14 -3.05308977e+15  3.97e+03 7.59e+07  1.38e+11     2s\n",
      "   3   2.01873833e+14 -3.02699280e+15  3.77e+03 7.22e+07  1.31e+11     2s\n",
      "   4   1.89936014e+14 -3.00072675e+15  3.54e+03 6.79e+07  1.24e+11     2s\n",
      "   5   8.17453541e+13 -2.50803109e+15  1.52e+03 1.32e+07  5.32e+10     2s\n",
      "   6   4.91644509e+13 -1.97698367e+15  9.16e+02 5.42e+06  3.10e+10     2s\n",
      "   7   3.87888298e+13 -1.89638717e+15  7.23e+02 4.75e+06  2.49e+10     2s\n",
      "   8   1.31661092e+13 -1.18930074e+15  2.45e+02 8.54e+05  8.62e+09     2s\n",
      "   9   1.20915518e+13 -1.12861155e+15  2.25e+02 7.68e+05  7.87e+09     2s\n",
      "  10   1.18850000e+13 -1.12290976e+15  2.21e+02 7.60e+05  7.75e+09     2s\n",
      "  11   1.18849369e+13 -1.12314599e+15  2.21e+02 7.60e+05  7.75e+09     2s\n",
      "  12   8.50684894e+12 -9.58818898e+14  1.58e+02 5.16e+05  5.66e+09     2s\n",
      "  13   5.22929518e+12 -7.18890075e+14  9.67e+01 2.81e+05  3.49e+09     2s\n",
      "  14   5.17894143e+12 -7.11995004e+14  9.58e+01 2.77e+05  3.45e+09     2s\n",
      "  15   2.97191702e+12 -5.02848582e+14  5.46e+01 1.47e+05  2.00e+09     3s\n",
      "  16   2.16294174e+12 -4.43118242e+14  3.96e+01 1.21e+05  1.57e+09     3s\n",
      "  17   1.82448120e+12 -3.65156502e+14  3.33e+01 9.15e+04  1.25e+09     3s\n",
      "  18   1.82445629e+12 -3.65171515e+14  3.33e+01 9.15e+04  1.25e+09     3s\n",
      "  19   1.59580991e+12 -3.58048370e+14  2.90e+01 8.91e+04  1.16e+09     3s\n",
      "  20   1.26545163e+12 -3.10900320e+14  2.29e+01 7.05e+04  9.49e+08     3s\n",
      "  21   1.08022124e+12 -2.57901270e+14  1.94e+01 5.51e+04  7.68e+08     3s\n",
      "  22   9.50940166e+11 -2.30714367e+14  1.70e+01 4.77e+04  6.69e+08     3s\n",
      "  23   9.47424556e+11 -2.29984269e+14  1.69e+01 4.75e+04  6.66e+08     3s\n",
      "  24   9.39576378e+11 -2.28002519e+14  1.68e+01 4.70e+04  6.60e+08     3s\n",
      "  25   9.28166228e+11 -2.24736687e+14  1.66e+01 4.61e+04  6.49e+08     3s\n",
      "  26   9.28005544e+11 -2.24730340e+14  1.66e+01 4.61e+04  6.49e+08     3s\n",
      "  27   9.27488316e+11 -2.24470198e+14  1.66e+01 4.60e+04  6.48e+08     3s\n",
      "  28   9.15949588e+11 -2.19373005e+14  1.64e+01 4.47e+04  6.33e+08     3s\n",
      "  29   9.15914063e+11 -2.19367858e+14  1.64e+01 4.47e+04  6.33e+08     3s\n",
      "  30   7.82380458e+11 -1.90029055e+14  1.39e+01 3.61e+04  5.33e+08     4s\n",
      "  31   7.82340157e+11 -1.90024167e+14  1.39e+01 3.61e+04  5.33e+08     4s\n",
      "  32   7.06589854e+11 -1.84834259e+14  1.24e+01 3.49e+04  5.04e+08     4s\n",
      "  33   6.85314457e+11 -1.84482920e+14  1.20e+01 3.48e+04  4.99e+08     4s\n",
      "  34   6.85314906e+11 -1.84482946e+14  1.20e+01 3.48e+04  4.99e+08     4s\n",
      "  35   6.19458993e+11 -1.79337547e+14  1.08e+01 3.36e+04  4.73e+08     4s\n",
      "  36   6.19387518e+11 -1.79278530e+14  1.08e+01 3.36e+04  4.73e+08     4s\n",
      "  37   6.18718076e+11 -1.78997945e+14  1.08e+01 3.35e+04  4.72e+08     4s\n",
      "  38   5.68083617e+11 -1.72280757e+14  1.05e+01 3.20e+04  4.45e+08     4s\n",
      "  39   5.67821014e+11 -1.72237824e+14  1.05e+01 3.19e+04  4.45e+08     4s\n",
      "  40   5.67212614e+11 -1.71281013e+14  1.05e+01 3.17e+04  4.43e+08     4s\n",
      "  41   5.16776650e+11 -1.61970156e+14  9.80e+00 2.94e+04  4.11e+08     4s\n",
      "  42   4.33331871e+11 -1.37197705e+14  9.26e+00 2.40e+04  3.38e+08     5s\n",
      "  43   4.33297823e+11 -1.37139933e+14  9.24e+00 2.40e+04  3.37e+08     5s\n",
      "  44   4.32024513e+11 -1.36991489e+14  9.22e+00 2.40e+04  3.37e+08     5s\n",
      "  45   4.32012697e+11 -1.36977600e+14  9.22e+00 2.40e+04  3.37e+08     5s\n",
      "  46   4.26439493e+11 -1.36311996e+14  9.10e+00 2.38e+04  3.34e+08     5s\n",
      "  47   4.26055894e+11 -1.36029838e+14  9.09e+00 2.38e+04  3.34e+08     5s\n",
      "  48   4.17539473e+11 -1.34441701e+14  9.23e+00 2.34e+04  3.28e+08     5s\n",
      "  49   4.17473897e+11 -1.34393696e+14  9.23e+00 2.34e+04  3.28e+08     5s\n",
      "  50   4.16409916e+11 -1.34225675e+14  9.21e+00 2.34e+04  3.28e+08     5s\n",
      "  51   4.15346451e+11 -1.33889587e+14  9.20e+00 2.33e+04  3.27e+08     5s\n",
      "  52   4.14946751e+11 -1.33856714e+14  9.20e+00 2.33e+04  3.27e+08     5s\n",
      "  53   3.95744486e+11 -1.26818900e+14  9.45e+00 2.18e+04  3.07e+08     5s\n",
      "  54   3.95686161e+11 -1.26813926e+14  9.45e+00 2.18e+04  3.07e+08     6s\n",
      "  55   3.95098361e+11 -1.26528258e+14  9.45e+00 2.18e+04  3.06e+08     6s\n",
      "  56   3.94310244e+11 -1.26437443e+14  9.42e+00 2.18e+04  3.06e+08     6s\n",
      "  57   3.94308064e+11 -1.26380328e+14  9.42e+00 2.17e+04  3.06e+08     6s\n",
      "  58   3.92722429e+11 -1.25663182e+14  9.39e+00 2.16e+04  3.04e+08     6s\n",
      "\n",
      "Barrier performed 58 iterations in 5.84 seconds (10.48 work units)\n",
      "Numerical trouble encountered\n",
      "\n",
      "Model may be infeasible or unbounded.  Consider using the\n",
      "homogeneous algorithm (through parameter 'BarHomogeneous')\n",
      "\n",
      "\n",
      "Solved with dual simplex\n",
      "Iteration    Objective       Primal Inf.    Dual Inf.      Time\n",
      "  150613    6.3126605e+08   0.000000e+00   0.000000e+00     20s\n",
      "\n",
      "Solved in 150613 iterations and 20.24 seconds (23.04 work units)\n",
      "Optimal objective  6.312660487e+08\n",
      "\n",
      "User-callback calls 11197, time in user-callback 0.00 sec\n"
     ]
    },
    {
     "data": {
      "text/plain": [
       "A JuMP Model\n",
       "├ solver: Gurobi\n",
       "├ objective_sense: MIN_SENSE\n",
       "│ └ objective_function_type: AffExpr\n",
       "├ num_variables: 1029550\n",
       "├ num_constraints: 1938191\n",
       "│ ├ AffExpr in MOI.EqualTo{Float64}: 667440\n",
       "│ ├ AffExpr in MOI.LessThan{Float64}: 853201\n",
       "│ ├ VariableRef in MOI.EqualTo{Float64}: 360\n",
       "│ └ VariableRef in MOI.GreaterThan{Float64}: 417190\n",
       "└ Names registered in the model\n",
       "  └ :CAP, :CHARGE, :FLOW, :GEN, :SHED, :SOC, :THETA, :cBalance, :cBudget, :cLineFlows, :cLineLimits, :cMaxCharge, :cMaxGen, :cMaxShed, :cMaxStateOfCharge, :cStateOfCharge, :eFixedCostsSolar, :eFixedCostsStorage, :eNSECosts, :eTotalCosts, :eVariableCosts"
      ]
     },
     "execution_count": 15,
     "metadata": {},
     "output_type": "execute_result"
    }
   ],
   "source": [
    "# Setup, run, and save model outputs\n",
    "(buses, lines, gens, loads, variability, P, W) = load(\"san_diego_system\")\n",
    "model = expansion(buses, lines, gens, loads, variability, P, W)\n",
    "save(model, \"san_diego_system\", \"OUTPUT_NAME\", buses, lines, gens, loads);"
   ]
  },
  {
   "cell_type": "code",
   "execution_count": 17,
   "id": "50bc7331-3111-4e04-8654-6e6b3d85c59f",
   "metadata": {},
   "outputs": [],
   "source": []
  },
  {
   "cell_type": "code",
   "execution_count": null,
   "id": "79be5bcb-20cc-4c60-a733-e63956792b13",
   "metadata": {},
   "outputs": [],
   "source": []
  }
 ],
 "metadata": {
  "kernelspec": {
   "display_name": "Julia 1.8.3",
   "language": "julia",
   "name": "julia-1.8"
  },
  "language_info": {
   "file_extension": ".jl",
   "mimetype": "application/julia",
   "name": "julia",
   "version": "1.8.3"
  }
 },
 "nbformat": 4,
 "nbformat_minor": 5
}
