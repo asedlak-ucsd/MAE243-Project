{
 "cells": [
  {
   "cell_type": "markdown",
   "id": "14620f26-1fd1-434d-b51b-15523a568e25",
   "metadata": {},
   "source": [
    "# Model Formulation\n",
    "\n",
    "This notebook can be used to run initial model with DCOPF and a basic budget variable. Before running this nodebook please refer to `Test-System-Data-Processing.ipynb` to preprocess generator, lines, buses, and loads data. "
   ]
  },
  {
   "cell_type": "code",
   "execution_count": 43,
   "id": "6a1fde6e-1296-4a9b-af6a-09084880e61b",
   "metadata": {},
   "outputs": [
    {
     "data": {
      "text/plain": [
       "expansion (generic function with 1 method)"
      ]
     },
     "execution_count": 43,
     "metadata": {},
     "output_type": "execute_result"
    }
   ],
   "source": [
    "using JuMP, Gurobi\n",
    "using DataFrames, CSV\n",
    "\n",
    "include(joinpath(\"capex_model\", \"expansion_tools.jl\"))\n",
    "include(joinpath(\"capex_model\", \"model.jl\"))"
   ]
  },
  {
   "cell_type": "code",
   "execution_count": null,
   "id": "c437c65e-0d77-48df-8e53-09f99b198c29",
   "metadata": {},
   "outputs": [],
   "source": []
  },
  {
   "cell_type": "code",
   "execution_count": 46,
   "id": "43bc2507-f1f2-49fe-9d81-120069220be1",
   "metadata": {
    "scrolled": true
   },
   "outputs": [
    {
     "name": "stdout",
     "output_type": "stream",
     "text": [
      "Set parameter Username\n",
      "Set parameter LicenseID to value 2669913\n",
      "Academic license - for non-commercial use only - expires 2026-05-22\n",
      "Gurobi Optimizer version 12.0.2 build v12.0.2rc0 (mac64[arm] - Darwin 24.5.0 24F74)\n",
      "\n",
      "CPU model: Apple M2 Ultra\n",
      "Thread count: 24 physical cores, 24 logical processors, using up to 24 threads\n",
      "\n",
      "Optimize a model with 206976 rows, 140401 columns and 459039 nonzeros\n",
      "Model fingerprint: 0x7265f0e4\n",
      "Coefficient statistics:\n",
      "  Matrix range     [1e-03, 1e+07]\n",
      "  Objective range  [7e+00, 1e+03]\n",
      "  Bounds range     [0e+00, 0e+00]\n",
      "  RHS range        [1e-03, 3e+03]\n",
      "Presolve removed 140484 rows and 76380 columns\n",
      "Presolve time: 0.18s\n",
      "Presolved: 66492 rows, 64021 columns, 246045 nonzeros\n",
      "\n",
      "Concurrent LP optimizer: primal simplex, dual simplex, and barrier\n",
      "Showing barrier log only...\n",
      "\n",
      "Ordering time: 0.55s\n",
      "\n",
      "Barrier statistics:\n",
      " Dense cols : 152\n",
      " Free vars  : 138\n",
      " AA' NZ     : 3.619e+05\n",
      " Factor NZ  : 7.705e+06 (roughly 110 MB of memory)\n",
      " Factor Ops : 6.259e+09 (less than 1 second per iteration)\n",
      " Threads    : 22\n",
      "\n",
      "                  Objective                Residual\n",
      "Iter       Primal          Dual         Primal    Dual     Compl     Time\n",
      "   0   5.90110434e+11 -7.18563848e+11  1.24e+05 6.79e+04  1.71e+09     1s\n",
      "   1   2.44352334e+11 -4.74649616e+11  5.14e+04 2.41e+04  6.78e+08     1s\n",
      "   2   7.65955610e+10 -3.13258346e+11  1.56e+04 4.32e+03  1.78e+08     1s\n",
      "   3   1.89599928e+10 -2.30770235e+11  3.29e+03 7.94e+02  3.86e+07     1s\n",
      "   4   1.01448494e+10 -1.41678298e+11  5.28e+02 1.10e+02  6.64e+06     1s\n",
      "   5   7.16493373e+09 -7.08979529e+10  3.36e+01 6.22e+00  9.18e+05     1s\n",
      "   6   2.19181173e+09 -1.19557795e+10  2.30e+00 4.59e-01  1.18e+05     1s\n",
      "   7   7.92530134e+08 -3.80727949e+09  2.18e+00 1.19e-01  3.28e+04     1s\n",
      "   8   5.30463660e+08 -2.93377304e+09  2.18e+00 9.07e-02  2.43e+04     1s\n",
      "   9   2.05475856e+08 -2.06042336e+09  2.18e+00 6.10e-02  1.55e+04     2s\n",
      "  10   1.24348624e+08 -1.37967810e+09  2.18e+00 4.06e-02  1.03e+04     2s\n",
      "  11   7.30361717e+07 -1.12682377e+09  2.09e+00 3.32e-02  8.20e+03     2s\n",
      "  12   5.13108536e+07 -9.27112685e+08  1.60e+00 2.70e-02  6.66e+03     2s\n",
      "  13   4.77273232e+07 -8.95836494e+08  1.58e+00 2.61e-02  6.44e+03     2s\n",
      "  14   4.64983607e+07 -7.82136111e+08  1.57e+00 2.28e-02  5.65e+03     2s\n",
      "  15   4.59314922e+07 -7.41195526e+08  1.55e+00 2.16e-02  5.37e+03     2s\n",
      "  16   3.57383371e+07 -6.69848656e+08  1.52e+00 1.92e-02  4.74e+03     3s\n",
      "  17   3.07034419e+07 -5.89067284e+08  1.48e+00 1.66e-02  4.08e+03     3s\n",
      "  18   3.01709514e+07 -4.91384864e+08  1.41e+00 1.35e-02  3.34e+03     3s\n",
      "  19   2.68431203e+07 -4.11502684e+08  1.46e+00 1.08e-02  2.71e+03     3s\n",
      "  20   1.78277899e+07 -2.88287650e+08  1.68e+00 6.75e-03  1.71e+03     3s\n",
      "  21   1.62207682e+07 -2.12165684e+08  1.74e+00 4.43e-03  1.14e+03     3s\n",
      "  22   1.15382997e+07 -2.17739565e+08  1.82e+00 4.23e-03  1.11e+03     3s\n",
      "  23   9.44280215e+06 -1.99806450e+08  1.84e+00 3.83e-03  9.96e+02     3s\n",
      "  24   8.11154999e+06 -1.78940160e+08  1.71e+00 3.31e-03  8.90e+02     3s\n",
      "  25   7.89764202e+06 -1.47522461e+08  1.49e+00 2.61e-03  6.97e+02     4s\n",
      "  26   7.67955860e+06 -1.27311363e+08  1.31e+00 2.08e-03  5.66e+02     4s\n",
      "  27   6.59917956e+06 -1.03676662e+08  8.34e-01 1.49e-03  4.16e+02     4s\n",
      "  28   6.37872319e+06 -9.92828485e+07  7.52e-01 1.26e-03  3.65e+02     4s\n",
      "  29   5.72516619e+06 -9.27916037e+07  5.04e-01 1.08e-03  3.18e+02     4s\n",
      "  30   5.32479712e+06 -8.03852409e+07  4.07e-01 7.86e-04  2.38e+02     4s\n",
      "  31   5.14412983e+06 -7.68267228e+07  4.07e-01 7.09e-04  2.16e+02     4s\n",
      "  32   4.71434380e+06 -7.28326219e+07  4.07e-01 6.21e-04  1.89e+02     4s\n",
      "  33   4.66152716e+06 -6.71200867e+07  4.07e-01 5.11e-04  1.56e+02     5s\n",
      "  34   4.52731093e+06 -6.53562364e+07  4.07e-01 4.77e-04  1.46e+02     5s\n",
      "  35   4.31808842e+06 -6.22792191e+07  4.07e-01 4.12e-04  1.26e+02     5s\n",
      "  36   4.08182962e+06 -6.00460631e+07  4.07e-01 3.72e-04  1.13e+02     5s\n",
      "  37   3.96093030e+06 -5.89481117e+07  4.03e-01 3.51e-04  1.07e+02     5s\n",
      "  38   3.79492567e+06 -5.63606476e+07  3.99e-01 3.01e-04  9.12e+01     5s\n",
      "  39   3.71822735e+06 -5.56008771e+07  4.00e-01 2.87e-04  8.68e+01     5s\n",
      "  40   3.69458532e+06 -5.34840726e+07  4.00e-01 2.45e-04  7.48e+01     5s\n",
      "  41   3.61422036e+06 -5.23553702e+07  4.01e-01 2.22e-04  6.78e+01     6s\n",
      "  42   3.56939709e+06 -5.04310204e+07  4.02e-01 1.80e-04  5.55e+01     6s\n",
      "  43   3.47410270e+06 -4.74996193e+07  4.02e-01 1.12e-04  3.56e+01     6s\n",
      "  44   3.42768579e+06 -4.70162029e+07  4.03e-01 1.01e-04  3.21e+01     6s\n",
      "  45   3.39375105e+06 -4.65533310e+07  4.03e-01 9.09e-05  2.88e+01     6s\n",
      "  46   3.37310487e+06 -4.63750231e+07  4.03e-01 8.67e-05  2.75e+01     6s\n",
      "  47   3.34243173e+06 -4.59611913e+07  4.03e-01 7.76e-05  2.47e+01     6s\n",
      "  48   3.33844425e+06 -4.58069827e+07  4.03e-01 7.52e-05  2.40e+01     6s\n",
      "  49   3.32103504e+06 -4.55849498e+07  4.03e-01 7.23e-05  2.30e+01     6s\n",
      "  50   3.30796870e+06 -4.52579166e+07  4.04e-01 6.74e-05  2.15e+01     7s\n",
      "  51   3.25429707e+06 -4.51637665e+07  4.04e-01 6.57e-05  2.08e+01     7s\n",
      "  52   3.20471080e+06 -4.45283546e+07  4.05e-01 5.16e-05  1.65e+01     7s\n",
      "  53   3.18493844e+06 -4.43781773e+07  4.05e-01 4.85e-05  1.55e+01     7s\n",
      "  54   3.17699507e+06 -4.41397388e+07  4.05e-01 4.38e-05  1.40e+01     7s\n",
      "\n",
      "Barrier performed 54 iterations in 6.87 seconds (11.09 work units)\n",
      "Barrier solve interrupted - model solved by another algorithm\n",
      "\n",
      "\n",
      "Solved with dual simplex\n",
      "Iteration    Objective       Primal Inf.    Dual Inf.      Time\n",
      "   38345    8.7141891e+05   0.000000e+00   0.000000e+00      7s\n",
      "\n",
      "Solved in 38345 iterations and 6.98 seconds (6.10 work units)\n",
      "Optimal objective  8.714189060e+05\n",
      "\n",
      "User-callback calls 1958, time in user-callback 0.00 sec\n"
     ]
    }
   ],
   "source": [
    "#run_model(load, basic_capex, save, \"san_diego_system\", \"test_senario\")\n",
    "(buses, lines, gens, loads, variability, P) = load(\"san_diego_system\")\n",
    "model = expansion(buses, lines, gens, loads, variability, P)\n",
    "save(model, \"san_diego_system\", \"test_senario\", buses, lines, gens, loads);"
   ]
  },
  {
   "cell_type": "code",
   "execution_count": null,
   "id": "50bc7331-3111-4e04-8654-6e6b3d85c59f",
   "metadata": {},
   "outputs": [],
   "source": [
    "#91s with contraints on new cap\n",
    "#16s with no constraints on new cap\n",
    "#7s with no constraints on cap or angles"
   ]
  },
  {
   "cell_type": "code",
   "execution_count": null,
   "id": "a24c49d7-4b0e-41d0-b981-9437cff5037b",
   "metadata": {},
   "outputs": [],
   "source": [
    "# TODOs\n",
    "# - kmeans clustering & fix weighting\n",
    "# - \n",
    "# - Ramping <=== seems important...\n",
    "# - Get correct costs\n",
    "\n",
    "\n",
    "## EXTRA\n",
    "# Quardatic costs\n",
    "\n",
    "\n",
    "\n",
    "## Questions for Qi ##\n",
    "# a) costs? How do you handel the fact that costs are quadratic? Also why do they include c0?\n",
    "# b) 1e-8 * 100 * (2700000 / 20 + 12500) # What are the units of this? and why do batteries cost less than solar??\n",
    "\n",
    "\n",
    "# 3 mins to solve 1 week of cap ex"
   ]
  }
 ],
 "metadata": {
  "kernelspec": {
   "display_name": "Julia 1.8.3",
   "language": "julia",
   "name": "julia-1.8"
  },
  "language_info": {
   "file_extension": ".jl",
   "mimetype": "application/julia",
   "name": "julia",
   "version": "1.8.3"
  }
 },
 "nbformat": 4,
 "nbformat_minor": 5
}
