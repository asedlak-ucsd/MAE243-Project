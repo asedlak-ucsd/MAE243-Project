{
 "cells": [
  {
   "cell_type": "markdown",
   "id": "14620f26-1fd1-434d-b51b-15523a568e25",
   "metadata": {},
   "source": [
    "# Model Formulation\n",
    "\n",
    "This notebook can be used to run initial model with DCOPF and a basic budget variable. Before running this nodebook please refer to `Test-System-Data-Processing.ipynb` to preprocess generator, lines, buses, and loads data. "
   ]
  },
  {
   "cell_type": "code",
   "execution_count": 15,
   "id": "6a1fde6e-1296-4a9b-af6a-09084880e61b",
   "metadata": {},
   "outputs": [
    {
     "data": {
      "text/plain": [
       "save (generic function with 1 method)"
      ]
     },
     "execution_count": 15,
     "metadata": {},
     "output_type": "execute_result"
    }
   ],
   "source": [
    "using JuMP, Gurobi\n",
    "using DataFrames, CSV\n",
    "\n",
    "include(joinpath(\"capex_model\", \"expansion_tools.jl\"))"
   ]
  },
  {
   "cell_type": "code",
   "execution_count": null,
   "id": "c9766d6d-22ef-464d-8417-e7308a634264",
   "metadata": {},
   "outputs": [],
   "source": []
  },
  {
   "cell_type": "code",
   "execution_count": null,
   "id": "50c99bdc-3d0f-4637-839f-b0bc4d781128",
   "metadata": {},
   "outputs": [],
   "source": []
  },
  {
   "cell_type": "code",
   "execution_count": null,
   "id": "b5229a5d-18c2-4321-9363-0d855fadf0cb",
   "metadata": {},
   "outputs": [],
   "source": []
  },
  {
   "cell_type": "code",
   "execution_count": null,
   "id": "cefad8e5-e6c6-4825-83c4-d036a22711ac",
   "metadata": {},
   "outputs": [],
   "source": []
  },
  {
   "cell_type": "code",
   "execution_count": null,
   "id": "17f00cfb-e894-474d-8668-01f433fb2eff",
   "metadata": {},
   "outputs": [],
   "source": []
  },
  {
   "cell_type": "code",
   "execution_count": null,
   "id": "4a36d3e7-c4ba-4bd9-bddc-59d08969a25c",
   "metadata": {},
   "outputs": [],
   "source": []
  },
  {
   "cell_type": "code",
   "execution_count": null,
   "id": "8aa1c345-a777-49b0-83ce-8a9462444440",
   "metadata": {},
   "outputs": [],
   "source": []
  },
  {
   "cell_type": "code",
   "execution_count": null,
   "id": "567654c0-05ee-418a-82a8-e147e5361b66",
   "metadata": {},
   "outputs": [],
   "source": []
  },
  {
   "cell_type": "code",
   "execution_count": null,
   "id": "a85f9ab8-dd1c-4482-84e4-c664d8d4f563",
   "metadata": {},
   "outputs": [],
   "source": []
  },
  {
   "cell_type": "code",
   "execution_count": 86,
   "id": "c437c65e-0d77-48df-8e53-09f99b198c29",
   "metadata": {},
   "outputs": [],
   "source": [
    "# TODOs\n",
    "# - kmeans clustering\n",
    "# - Fix weighting\n",
    "# - Ramping <=== seems important...\n",
    "# - Get correct costs\n",
    "# - commit code\n",
    "\n",
    "\n",
    "## EXTRA\n",
    "# Quardatic costs\n",
    "\n",
    "\n",
    "\n",
    "## Questions for Qi ##\n",
    "# a) costs? How do you handel the fact that costs are quadratic? Also why do they include c0?\n",
    "# b) 1e-8 * 100 * (2700000 / 20 + 12500) # What are the units of this? and why do batteries cost less than solar??\n",
    "\n",
    "\n",
    "# 3 mins to solve 1 week of cap ex"
   ]
  },
  {
   "cell_type": "code",
   "execution_count": 88,
   "id": "43bc2507-f1f2-49fe-9d81-120069220be1",
   "metadata": {
    "scrolled": true
   },
   "outputs": [],
   "source": [
    "#run_model(load, basic_capex, save, \"san_diego_system\", \"test_senario\")"
   ]
  },
  {
   "cell_type": "code",
   "execution_count": 160,
   "id": "3e32b7e6-a140-4137-b629-9f8051f40558",
   "metadata": {},
   "outputs": [],
   "source": [
    "(buses, lines, gens, loads, variability, P) = load(\"san_diego_system\");"
   ]
  },
  {
   "cell_type": "code",
   "execution_count": 188,
   "id": "2b0301dc-16ee-4fd5-912d-33ef3701ad10",
   "metadata": {
    "scrolled": true
   },
   "outputs": [
    {
     "name": "stdout",
     "output_type": "stream",
     "text": [
      "Set parameter Username\n",
      "Set parameter LicenseID to value 2669913\n",
      "Academic license - for non-commercial use only - expires 2026-05-22\n",
      "Gurobi Optimizer version 12.0.2 build v12.0.2rc0 (mac64[arm] - Darwin 24.5.0 24F74)\n",
      "\n",
      "CPU model: Apple M2 Ultra\n",
      "Thread count: 24 physical cores, 24 logical processors, using up to 24 threads\n",
      "\n",
      "Optimize a model with 159552 rows, 68926 columns and 340916 nonzeros\n",
      "Model fingerprint: 0xbc21bcea\n",
      "Coefficient statistics:\n",
      "  Matrix range     [1e-03, 1e+07]\n",
      "  Objective range  [7e+00, 3e+03]\n",
      "  Bounds range     [0e+00, 0e+00]\n",
      "  RHS range        [4e-03, 3e+03]\n",
      "Presolve removed 121770 rows and 35704 columns\n",
      "Presolve time: 0.12s\n",
      "Presolved: 37782 rows, 37422 columns, 137890 nonzeros\n",
      "\n",
      "Concurrent LP optimizer: primal simplex, dual simplex, and barrier\n",
      "Showing barrier log only...\n",
      "\n",
      "Ordering time: 0.46s\n",
      "\n",
      "Barrier statistics:\n",
      " Free vars  : 924\n",
      " AA' NZ     : 6.170e+05\n",
      " Factor NZ  : 5.231e+06 (roughly 70 MB of memory)\n",
      " Factor Ops : 3.565e+09 (less than 1 second per iteration)\n",
      " Threads    : 22\n",
      "\n",
      "                  Objective                Residual\n",
      "Iter       Primal          Dual         Primal    Dual     Compl     Time\n",
      "   0   6.67171502e+10 -1.53193805e+12  1.31e+04 1.55e+05  6.11e+08     1s\n",
      "   1   1.52933163e+10 -1.17429372e+12  2.47e+03 5.81e+04  1.65e+08     1s\n",
      "   2   6.56263080e+09 -4.57250169e+11  6.33e+02 5.79e+03  3.02e+07     1s\n",
      "   3   4.04867973e+09 -1.53291358e+11  7.48e+01 3.24e+02  4.17e+06     1s\n",
      "   4   3.19972657e+09 -3.32528715e+10  1.06e+01 2.65e+01  6.66e+05     1s\n",
      "   5   1.11031315e+09 -6.36106374e+09  1.63e+00 2.83e+00  1.16e+05     1s\n",
      "   6   3.37027568e+08 -1.34976793e+09  3.64e-01 4.82e-01  2.51e+04     1s\n",
      "   7   1.21893895e+08 -4.65330322e+08  1.28e-01 1.47e-01  8.58e+03     1s\n",
      "   8   3.41967387e+07 -1.02978701e+08  3.53e-02 2.86e-02  1.99e+03     1s\n",
      "   9   1.85400473e+07 -3.35352657e+07  1.56e-02 9.59e-03  7.53e+02     1s\n",
      "  10   1.51211762e+07 -2.73033326e+07  1.26e-02 7.71e-03  6.13e+02     1s\n",
      "  11   4.70720963e+06 -7.87409064e+06  3.33e-03 1.79e-03  1.82e+02     1s\n",
      "  12   1.85084708e+06 -2.32520573e+06  1.06e-03 5.05e-04  6.03e+01     1s\n",
      "  13   1.08270362e+06 -4.76644110e+05  5.18e-04 1.42e-04  2.25e+01     1s\n",
      "  14   6.08491041e+05  9.82764576e+03  1.97e-04 5.27e-05  8.64e+00     1s\n",
      "  15   4.20379763e+05  1.91963932e+05  7.09e-05 2.39e-05  3.30e+00     1s\n",
      "  16   3.39173739e+05  2.63743449e+05  1.89e-05 2.37e-05  1.09e+00     1s\n",
      "  17   3.22513754e+05  2.77700122e+05  8.25e-06 1.71e-05  6.46e-01     1s\n",
      "  18   3.11908707e+05  3.00053369e+05  1.77e-06 3.12e-05  1.71e-01     1s\n",
      "  19   3.09343803e+05  3.06961537e+05  3.58e-07 4.95e-06  3.44e-02     1s\n",
      "  20   3.08644504e+05  3.08359155e+05  2.04e-08 4.93e-07  4.12e-03     1s\n",
      "  21   3.08573070e+05  3.08547361e+05  2.00e-09 8.88e-08  3.71e-04     1s\n",
      "  22   3.08571686e+05  3.08571651e+05  2.70e-09 7.94e-09  5.17e-07     1s\n",
      "  23   3.08571675e+05  3.08571675e+05  3.08e-09 5.82e-11  1.18e-10     1s\n",
      "\n",
      "Barrier solved model in 23 iterations and 1.45 seconds (1.81 work units)\n",
      "Optimal objective 3.08571675e+05\n",
      "\n",
      "Crossover log...\n",
      "\n",
      "   14568 DPushes remaining with DInf 0.0000000e+00                 1s\n",
      "       0 DPushes remaining with DInf 0.0000000e+00                 2s\n",
      "\n",
      "    1627 PPushes remaining with PInf 0.0000000e+00                 2s\n",
      "       0 PPushes remaining with PInf 0.0000000e+00                 2s\n",
      "\n",
      "  Push phase complete: Pinf 0.0000000e+00, Dinf 3.9361426e-09      2s\n",
      "\n",
      "\n",
      "Solved with barrier\n",
      "Iteration    Objective       Primal Inf.    Dual Inf.      Time\n",
      "    8810    3.0857167e+05   0.000000e+00   0.000000e+00      2s\n",
      "\n",
      "Solved in 8810 iterations and 1.87 seconds (2.12 work units)\n",
      "Optimal objective  3.085716749e+05\n",
      "\n",
      "User-callback calls 17313, time in user-callback 0.00 sec\n"
     ]
    },
    {
     "data": {
      "text/plain": [
       "A JuMP Model\n",
       "├ solver: Gurobi\n",
       "├ objective_sense: MIN_SENSE\n",
       "│ └ objective_function_type: AffExpr\n",
       "├ num_variables: 68926\n",
       "├ num_constraints: 187678\n",
       "│ ├ AffExpr in MOI.EqualTo{Float64}: 44496\n",
       "│ ├ AffExpr in MOI.GreaterThan{Float64}: 29088\n",
       "│ ├ AffExpr in MOI.LessThan{Float64}: 85968\n",
       "│ ├ VariableRef in MOI.EqualTo{Float64}: 24\n",
       "│ └ VariableRef in MOI.GreaterThan{Float64}: 28102\n",
       "└ Names registered in the model\n",
       "  └ :CAP, :CHARGE, :FLOW, :GEN, :SHED, :SOC, :THETA, :cAngleLimitsMax, :cAngleLimitsMin, :cBalance, :cLineFlows, :cLineLimits, :cMaxCharge, :cMaxGenOld, :cMaxStateOfCharge, :cShed, :cStateOfCharge, :eFixedCostsSolar, :eFixedCostsStorage, :eNSECosts, :eTotalCosts, :eVariableCosts"
      ]
     },
     "execution_count": 188,
     "metadata": {},
     "output_type": "execute_result"
    }
   ],
   "source": [
    "model = expansion_working(buses, lines, gens, loads, variability, P)"
   ]
  },
  {
   "cell_type": "code",
   "execution_count": 190,
   "id": "23934948-3844-4d44-9c6b-a8ca0230d052",
   "metadata": {},
   "outputs": [
    {
     "data": {
      "text/plain": [
       "\"/Users/adamsedlak/Documents/Julia/MAE243/final-project/models/san_diego_system/outputs/test_senario/costs.csv\""
      ]
     },
     "execution_count": 190,
     "metadata": {},
     "output_type": "execute_result"
    }
   ],
   "source": [
    "save(model, \"san_diego_system\", \"test_senario\", buses, lines, gens, loads)"
   ]
  },
  {
   "cell_type": "code",
   "execution_count": 186,
   "id": "d12fe42e-21a4-49e3-9aed-cd3d81599921",
   "metadata": {},
   "outputs": [
    {
     "data": {
      "text/plain": [
       "expansion_working (generic function with 1 method)"
      ]
     },
     "execution_count": 186,
     "metadata": {},
     "output_type": "execute_result"
    }
   ],
   "source": [
    "function expansion_working(buses, lines, gens, loads, variability, P)\n",
    "    \"\"\"\n",
    "    Solve capacity expansion with CATS.\n",
    "    \n",
    "    Inputs:\n",
    "        buses -- dataframe with bus types and loads\n",
    "        lines -- dataframe with transmission lines info\n",
    "        gens -- dataframe with generator info and costs\n",
    "        loads -- \n",
    "        variability --\n",
    "        P --\n",
    "    \"\"\"   \n",
    "    #### HELPER FUNCTIONS ####\n",
    "    # Select a line column using i and j \n",
    "    line = (i, j, col) -> lines[lines_map[(i, j)], col]\n",
    "    # Subset of all lines connected to bus i\n",
    "    J = i -> lines.t_bus[lines.f_bus .== i]\n",
    "    # Select all generators in G connected to bus i\n",
    "    sel = (G, i) -> collect(G)[gens[collect(G),:bus] .== i]\n",
    "\n",
    "    function prev(t)\n",
    "        \"\"\"\n",
    "        Returns the t-1 index using wrapping to ensure\n",
    "        that if t-1 ∉ P then the largest t ∈ P is returned.\n",
    "        \"\"\"\n",
    "        P_i = findfirst(P_i -> t in P_i, P)\n",
    "        shift = first(P[P_i])\n",
    "        p = length(P[P_i])\n",
    "        return mod1(t - shift, p) + shift - 1\n",
    "    end\n",
    "\n",
    "    function get_CAP(g)\n",
    "        \"\"\"\n",
    "        Return CAP decision variable if g ∈ G_new.\n",
    "        Otherwise just return zero        \n",
    "        \"\"\"\n",
    "        return g ∈ G_new ? CATS_Model[:CAP][g] : 0\n",
    "    end\n",
    "    \n",
    "    ##### SETS ####\n",
    "    G = gens[:, :gen_id]                 # G: Set of all generators\n",
    "    G_new = gens[gens.canidate .==1, :gen_id]\n",
    "    \n",
    "    G_ess = gens[gens.ess .== 1, :gen_id]     # G_ess: Set of all energy storage system (ESS) generators\n",
    "    G_solar = gens[gens.fueltype .== \"Solar Photovoltaic\", :gen_id]\n",
    "    \n",
    "    N = 1:nrow(buses)            # N: Set of all network nodes\n",
    "    L = collect(zip(             # L: Set of all lines/branches\n",
    "        lines.f_bus, lines.t_bus))\n",
    "\n",
    "    T = 1:ncol(loads)            # T: Set of all hours\n",
    "\n",
    "    #### GLOBALS ####\n",
    "    # Mapping from (i, j) tuple to line index l\n",
    "    lines_map = Dict(zip(L, 1:length(L)))\n",
    "    \n",
    "    #### PARAMETERS ####\n",
    "    θlim = π*(60/180)  # Absolute max angle limit in rad\n",
    "    slack_bus = 416    # Set slack bus to one with many CTs\n",
    "    \n",
    "    storage_hrs = 4    # Storage Hours * Power Capacity = Energy capacity ∀ g ∈ G_s\n",
    "    η_charge = 0.97    # Charging efficiency  \n",
    "    η_discharge = 0.91 # Discharging efficiecy\n",
    "    \n",
    "    # Toy parameters for a limited investment in solar at each bus\n",
    "    shed_cost = 1000 \n",
    "    budget = 0\n",
    "    solar_cost = 1475\n",
    "    battery_cost = 1475 \n",
    "\n",
    "    ########################\n",
    "    #####     MODEL    #####\n",
    "    ########################\n",
    "    \n",
    "    CATS_Model = Model(() -> Gurobi.Optimizer())\n",
    "    \n",
    "    # Decision variables   \n",
    "    @variables(CATS_Model, begin\n",
    "        GEN[G,T] ≥ 0       # Generation of each generator \n",
    "        SHED[N,T] ≥ 0      # Load sheading at bus N\n",
    "        THETA[N,T]         # Voltage phase angle of bus\n",
    "        FLOW[L,T]          # Flows between all pairs of nodes\n",
    "        SOC[G_ess,T] ≥ 0     # ESS state of charge\n",
    "        CHARGE[G_ess,T] ≥ 0  # Chargeing of ESS \n",
    "        CAP[G_new] ≥ 0\n",
    "    end)\n",
    "\n",
    "    # Max and min generation constraints\n",
    "    @constraint(CATS_Model, cMaxGenOld[g ∈ G, t ∈ T], \n",
    "        GEN[g,t] ≤ variability[g,t]*(gens[g,:pmax] + get_CAP(g)))\n",
    "\n",
    "    # Load shedding constraint\n",
    "    @constraint(CATS_Model, cShed[i ∈ N, t ∈ T], \n",
    "        SHED[i,t] ≤ loads[i,t])\n",
    "    \n",
    "    #########################\n",
    "    #### BATTERY STORAGE ####\n",
    "    #########################\n",
    "    # Charging must be less than max power capacity\n",
    "    @constraint(CATS_Model, cMaxCharge[g ∈ G_ess, t ∈ T], \n",
    "        CHARGE[g,t] ≤ gens[g,:pmax] + get_CAP(g))\n",
    "    \n",
    "    # Energy capacity must be less ×4 the power capacity\n",
    "    @constraint(CATS_Model, cMaxStateOfCharge[g ∈ G_ess, t ∈ T], \n",
    "        SOC[g,t] ≤ storage_hrs*(gens[g,:pmax] + get_CAP(g)))\n",
    "    \n",
    "    # SOC in the next time is a function of SOC in the pervious time\n",
    "    # with circular wrapping for the first and last t ∈ P_i\n",
    "    @constraint(CATS_Model, cStateOfCharge[g ∈ G_ess, t ∈ T],\n",
    "        SOC[g,t] == SOC[g,prev(t)] + (CHARGE[g,t]*η_charge - GEN[g,t]/η_charge))\n",
    "    \n",
    "    ########################\n",
    "    ######## DC OPF ########\n",
    "    ########################\n",
    "    # Create slack bus with theta=0\n",
    "    fix.(THETA[slack_bus, T], 0)\n",
    "    \n",
    "    # Max line flow must be less than the nominal (RATE A) of the line\n",
    "    @constraint(CATS_Model, cLineLimits[(i,j) ∈ L, t ∈ T], \n",
    "        FLOW[(i,j),t] ≤ line(i,j,:rate_a)) \n",
    "    \n",
    "    # Angle limited to less than 60 degrees \n",
    "    @constraint(CATS_Model, cAngleLimitsMax[(i,j) ∈ L, t ∈ T], \n",
    "        (THETA[i,t] - THETA[j,t]) ≤  θlim)\n",
    "    @constraint(CATS_Model, cAngleLimitsMin[(i,j) ∈ L, t ∈ T], \n",
    "        (THETA[i,t] - THETA[j,t]) ≥ -θlim)\n",
    "                    \n",
    "    # Flow is governed by angle difference between buses\n",
    "    @constraint(CATS_Model, cLineFlows[(i,j) ∈ L, t ∈ T],\n",
    "        FLOW[(i,j),t] == line(i,j,:sus)*(THETA[i,t] - THETA[j,t]));\n",
    "\n",
    "    # Power must be balanced at all nodes\n",
    "    # Σ(generation) + shedding - Σ(demand) - Σ charging = Σ(flows) ∀ n ∈ N\n",
    "    @constraint(CATS_Model, cBalance[i ∈ N, t ∈ T], \n",
    "        sum(GEN[g,t] for g ∈ sel(G, i))\n",
    "        + SHED[i,t] - loads[i,t] \n",
    "        - sum(CHARGE[g,t] for g ∈ sel(G_ess, i))\n",
    "         == sum(FLOW[(i,j),t] for j ∈ J(i)))\n",
    "\n",
    "    #########################\n",
    "    ####### OBJECTIVE #######\n",
    "    #########################\n",
    "\n",
    "    # The weighted operational costs of running each generator\n",
    "    @expression(CATS_Model, eVariableCosts,\n",
    "        sum(gens[g,:c1] * GEN[g,t] for g ∈ G, t ∈ T))\n",
    "    \n",
    "    # The weighted operational costs of shedding load/non-served energy (NSE)\n",
    "    @expression(CATS_Model, eNSECosts,\n",
    "        sum(shed_cost * SHED[i,t] for i ∈ N, t ∈ T))\n",
    "\n",
    "    # Fixed costs of all solar investments\n",
    "\t@expression(CATS_Model, eFixedCostsSolar,\n",
    "        sum(solar_cost * CAP[g] for g ∈ setdiff(G_new, G_solar)))\n",
    "\n",
    "    # Fixed costs of all battery/ESS investments\n",
    "    @expression(CATS_Model, eFixedCostsStorage,\n",
    "\t\tsum(battery_cost * CAP[g] for g ∈ intersect(G_new, G_ess)))\n",
    "\n",
    "    # Minimize the sum of investment and O&M costs \n",
    "\t@expression(CATS_Model, eTotalCosts,\n",
    "\t\teVariableCosts + eNSECosts + eFixedCostsStorage + eFixedCostsSolar)\n",
    "    \n",
    "\t@objective(CATS_Model, Min, eTotalCosts)\n",
    "\n",
    "    optimize!(CATS_Model)\n",
    "\n",
    "    return CATS_Model\n",
    "end"
   ]
  },
  {
   "cell_type": "code",
   "execution_count": 130,
   "id": "1b1d4006-10b5-4a70-b891-a3fbd8494635",
   "metadata": {},
   "outputs": [
    {
     "data": {
      "text/plain": [
       "76.94450549450548"
      ]
     },
     "execution_count": 130,
     "metadata": {},
     "output_type": "execute_result"
    }
   ],
   "source": [
    "maximum(value.(model[:CAP]))"
   ]
  },
  {
   "cell_type": "code",
   "execution_count": 112,
   "id": "68651a78-8d6d-4109-8803-179ff8b5ab77",
   "metadata": {},
   "outputs": [
    {
     "data": {
      "text/plain": [
       "true"
      ]
     },
     "execution_count": 112,
     "metadata": {},
     "output_type": "execute_result"
    }
   ],
   "source": []
  },
  {
   "cell_type": "code",
   "execution_count": 180,
   "id": "d2531c34-1048-41b7-b80d-7018f9d4a752",
   "metadata": {},
   "outputs": [
    {
     "data": {
      "text/plain": [
       "1-dimensional DenseAxisArray{ConstraintRef{Model, MathOptInterface.ConstraintIndex{MathOptInterface.ScalarAffineFunction{Float64}, MathOptInterface.EqualTo{Float64}}, ScalarShape},1,...} with index sets:\n",
       "    Dimension 1, 2:24\n",
       "And data, a 23-element Vector{ConstraintRef{Model, MathOptInterface.ConstraintIndex{MathOptInterface.ScalarAffineFunction{Float64}, MathOptInterface.EqualTo{Float64}}, ScalarShape}}:\n",
       " cStateOfCharge[4,2] : 1.0309278350515465 GEN[4,2] - SOC[4,1] + SOC[4,2] - 0.97 CHARGE[4,2] = 0\n",
       " cStateOfCharge[4,3] : 1.0309278350515465 GEN[4,3] - SOC[4,2] + SOC[4,3] - 0.97 CHARGE[4,3] = 0\n",
       " cStateOfCharge[4,4] : 1.0309278350515465 GEN[4,4] - SOC[4,3] + SOC[4,4] - 0.97 CHARGE[4,4] = 0\n",
       " cStateOfCharge[4,5] : 1.0309278350515465 GEN[4,5] - SOC[4,4] + SOC[4,5] - 0.97 CHARGE[4,5] = 0\n",
       " cStateOfCharge[4,6] : 1.0309278350515465 GEN[4,6] - SOC[4,5] + SOC[4,6] - 0.97 CHARGE[4,6] = 0\n",
       " cStateOfCharge[4,7] : 1.0309278350515465 GEN[4,7] - SOC[4,6] + SOC[4,7] - 0.97 CHARGE[4,7] = 0\n",
       " cStateOfCharge[4,8] : 1.0309278350515465 GEN[4,8] - SOC[4,7] + SOC[4,8] - 0.97 CHARGE[4,8] = 0\n",
       " cStateOfCharge[4,9] : 1.0309278350515465 GEN[4,9] - SOC[4,8] + SOC[4,9] - 0.97 CHARGE[4,9] = 0\n",
       " cStateOfCharge[4,10] : 1.0309278350515465 GEN[4,10] - SOC[4,9] + SOC[4,10] - 0.97 CHARGE[4,10] = 0\n",
       " cStateOfCharge[4,11] : 1.0309278350515465 GEN[4,11] - SOC[4,10] + SOC[4,11] - 0.97 CHARGE[4,11] = 0\n",
       " cStateOfCharge[4,12] : 1.0309278350515465 GEN[4,12] - SOC[4,11] + SOC[4,12] - 0.97 CHARGE[4,12] = 0\n",
       " cStateOfCharge[4,13] : 1.0309278350515465 GEN[4,13] - SOC[4,12] + SOC[4,13] - 0.97 CHARGE[4,13] = 0\n",
       " cStateOfCharge[4,14] : 1.0309278350515465 GEN[4,14] - SOC[4,13] + SOC[4,14] - 0.97 CHARGE[4,14] = 0\n",
       " cStateOfCharge[4,15] : 1.0309278350515465 GEN[4,15] - SOC[4,14] + SOC[4,15] - 0.97 CHARGE[4,15] = 0\n",
       " cStateOfCharge[4,16] : 1.0309278350515465 GEN[4,16] - SOC[4,15] + SOC[4,16] - 0.97 CHARGE[4,16] = 0\n",
       " cStateOfCharge[4,17] : 1.0309278350515465 GEN[4,17] - SOC[4,16] + SOC[4,17] - 0.97 CHARGE[4,17] = 0\n",
       " cStateOfCharge[4,18] : 1.0309278350515465 GEN[4,18] - SOC[4,17] + SOC[4,18] - 0.97 CHARGE[4,18] = 0\n",
       " cStateOfCharge[4,19] : 1.0309278350515465 GEN[4,19] - SOC[4,18] + SOC[4,19] - 0.97 CHARGE[4,19] = 0\n",
       " cStateOfCharge[4,20] : 1.0309278350515465 GEN[4,20] - SOC[4,19] + SOC[4,20] - 0.97 CHARGE[4,20] = 0\n",
       " cStateOfCharge[4,21] : 1.0309278350515465 GEN[4,21] - SOC[4,20] + SOC[4,21] - 0.97 CHARGE[4,21] = 0\n",
       " cStateOfCharge[4,22] : 1.0309278350515465 GEN[4,22] - SOC[4,21] + SOC[4,22] - 0.97 CHARGE[4,22] = 0\n",
       " cStateOfCharge[4,23] : 1.0309278350515465 GEN[4,23] - SOC[4,22] + SOC[4,23] - 0.97 CHARGE[4,23] = 0\n",
       " cStateOfCharge[4,24] : 1.0309278350515465 GEN[4,24] - SOC[4,23] + SOC[4,24] - 0.97 CHARGE[4,24] = 0"
      ]
     },
     "execution_count": 180,
     "metadata": {},
     "output_type": "execute_result"
    }
   ],
   "source": [
    "model[:cStateOfCharge][4, :]"
   ]
  },
  {
   "cell_type": "code",
   "execution_count": 148,
   "id": "d2fce38c-e49c-4dc9-99bb-ee6ae72a08ad",
   "metadata": {},
   "outputs": [
    {
     "data": {
      "text/html": [
       "<div><div style = \"float: left;\"><span>2×10 DataFrame</span></div><div style = \"clear: both;\"></div></div><div class = \"data-frame\" style = \"overflow-x: scroll;\"><table class = \"data-frame\" style = \"margin-bottom: 6px;\"><thead><tr class = \"header\"><th class = \"rowNumber\" style = \"font-weight: bold; text-align: right;\">Row</th><th style = \"text-align: left;\">bus</th><th style = \"text-align: left;\">fueltype</th><th style = \"text-align: left;\">c2</th><th style = \"text-align: left;\">c1</th><th style = \"text-align: left;\">c0</th><th style = \"text-align: left;\">pmax</th><th style = \"text-align: left;\">ess</th><th style = \"text-align: left;\">canidate</th><th style = \"text-align: left;\">gen_id</th><th style = \"text-align: left;\">CAP</th></tr><tr class = \"subheader headerLastRow\"><th class = \"rowNumber\" style = \"font-weight: bold; text-align: right;\"></th><th title = \"Int64\" style = \"text-align: left;\">Int64</th><th title = \"String\" style = \"text-align: left;\">String</th><th title = \"Float64\" style = \"text-align: left;\">Float64</th><th title = \"Float64\" style = \"text-align: left;\">Float64</th><th title = \"Float64\" style = \"text-align: left;\">Float64</th><th title = \"Float64\" style = \"text-align: left;\">Float64</th><th title = \"Int64\" style = \"text-align: left;\">Int64</th><th title = \"Int64\" style = \"text-align: left;\">Int64</th><th title = \"Int64\" style = \"text-align: left;\">Int64</th><th title = \"Float64\" style = \"text-align: left;\">Float64</th></tr></thead><tbody><tr><td class = \"rowNumber\" style = \"font-weight: bold; text-align: right;\">1</td><td style = \"text-align: right;\">14</td><td style = \"text-align: left;\">Solar Photovoltaic</td><td style = \"text-align: right;\">0.0</td><td style = \"text-align: right;\">0.0</td><td style = \"text-align: right;\">0.0</td><td style = \"text-align: right;\">0.0</td><td style = \"text-align: right;\">0</td><td style = \"text-align: right;\">1</td><td style = \"text-align: right;\">87</td><td style = \"text-align: right;\">76.9445</td></tr><tr><td class = \"rowNumber\" style = \"font-weight: bold; text-align: right;\">2</td><td style = \"text-align: right;\">36</td><td style = \"text-align: left;\">Solar Photovoltaic</td><td style = \"text-align: right;\">0.0</td><td style = \"text-align: right;\">0.0</td><td style = \"text-align: right;\">0.0</td><td style = \"text-align: right;\">0.0</td><td style = \"text-align: right;\">0</td><td style = \"text-align: right;\">1</td><td style = \"text-align: right;\">209</td><td style = \"text-align: right;\">23.0555</td></tr></tbody></table></div>"
      ],
      "text/latex": [
       "\\begin{tabular}{r|ccccccccc}\n",
       "\t& bus & fueltype & c2 & c1 & c0 & pmax & ess & canidate & \\\\\n",
       "\t\\hline\n",
       "\t& Int64 & String & Float64 & Float64 & Float64 & Float64 & Int64 & Int64 & \\\\\n",
       "\t\\hline\n",
       "\t1 & 14 & Solar Photovoltaic & 0.0 & 0.0 & 0.0 & 0.0 & 0 & 1 & $\\dots$ \\\\\n",
       "\t2 & 36 & Solar Photovoltaic & 0.0 & 0.0 & 0.0 & 0.0 & 0 & 1 & $\\dots$ \\\\\n",
       "\\end{tabular}\n"
      ],
      "text/plain": [
       "\u001b[1m2×10 DataFrame\u001b[0m\n",
       "\u001b[1m Row \u001b[0m│\u001b[1m bus   \u001b[0m\u001b[1m fueltype           \u001b[0m\u001b[1m c2      \u001b[0m\u001b[1m c1      \u001b[0m\u001b[1m c0      \u001b[0m\u001b[1m pmax    \u001b[0m\u001b[1m ess   \u001b[0m\u001b[1m c\u001b[0m ⋯\n",
       "     │\u001b[90m Int64 \u001b[0m\u001b[90m String             \u001b[0m\u001b[90m Float64 \u001b[0m\u001b[90m Float64 \u001b[0m\u001b[90m Float64 \u001b[0m\u001b[90m Float64 \u001b[0m\u001b[90m Int64 \u001b[0m\u001b[90m I\u001b[0m ⋯\n",
       "─────┼──────────────────────────────────────────────────────────────────────────\n",
       "   1 │    14  Solar Photovoltaic      0.0      0.0      0.0      0.0      0    ⋯\n",
       "   2 │    36  Solar Photovoltaic      0.0      0.0      0.0      0.0      0\n",
       "\u001b[36m                                                               3 columns omitted\u001b[0m"
      ]
     },
     "execution_count": 148,
     "metadata": {},
     "output_type": "execute_result"
    }
   ],
   "source": [
    "df[df[:, :CAP] .!= 0, :]"
   ]
  },
  {
   "cell_type": "code",
   "execution_count": 182,
   "id": "60e3b2fa-6aab-49fb-89d8-5391fed9cdb3",
   "metadata": {},
   "outputs": [
    {
     "name": "stdout",
     "output_type": "stream",
     "text": [
      "Set parameter Username\n",
      "Set parameter LicenseID to value 2669913\n",
      "Academic license - for non-commercial use only - expires 2026-05-22\n"
     ]
    },
    {
     "data": {
      "text/latex": [
       "$ 31.3951746 GEN_{1,1} + 31.3951746 GEN_{1,2} + 31.3951746 GEN_{1,3} + 31.3951746 GEN_{1,4} + 31.3951746 GEN_{1,5} + 31.3951746 GEN_{1,6} + 31.3951746 GEN_{1,7} + 31.3951746 GEN_{1,8} + 31.3951746 GEN_{1,9} + 31.3951746 GEN_{1,10} + 31.3951746 GEN_{1,11} + 31.3951746 GEN_{1,12} + 31.3951746 GEN_{1,13} + 31.3951746 GEN_{1,14} + 31.3951746 GEN_{1,15} + 31.3951746 GEN_{1,16} + 31.3951746 GEN_{1,17} + 31.3951746 GEN_{1,18} + 31.3951746 GEN_{1,19} + 31.3951746 GEN_{1,20} + 31.3951746 GEN_{1,21} + 31.3951746 GEN_{1,22} + 31.3951746 GEN_{1,23} + 31.3951746 GEN_{1,24} + 14.8788144 GEN_{2,1} + 14.8788144 GEN_{2,2} + 14.8788144 GEN_{2,3} + 14.8788144 GEN_{2,4} + 14.8788144 GEN_{2,5} + 14.8788144 GEN_{2,6} + [[\\ldots\\text{16700 terms omitted}\\ldots]] + 2950 CAP_{334} + 2950 CAP_{335} + 2950 CAP_{336} + 2950 CAP_{337} + 2950 CAP_{338} + 2950 CAP_{339} + 2950 CAP_{340} + 2950 CAP_{341} + 2950 CAP_{342} + 2950 CAP_{343} + 2950 CAP_{344} + 2950 CAP_{345} + 2950 CAP_{346} + 2950 CAP_{347} + 2950 CAP_{348} + 2950 CAP_{349} + 2950 CAP_{350} + 2950 CAP_{351} + 2950 CAP_{352} + 2950 CAP_{353} + 2950 CAP_{354} + 2950 CAP_{355} + 2950 CAP_{356} + 2950 CAP_{357} + 2950 CAP_{358} + 2950 CAP_{359} + 2950 CAP_{360} + 2950 CAP_{361} + 2950 CAP_{362} + 2950 CAP_{363} $"
      ],
      "text/plain": [
       "31.3951746 GEN[1,1] + 31.3951746 GEN[1,2] + 31.3951746 GEN[1,3] + 31.3951746 GEN[1,4] + 31.3951746 GEN[1,5] + 31.3951746 GEN[1,6] + 31.3951746 GEN[1,7] + 31.3951746 GEN[1,8] + 31.3951746 GEN[1,9] + 31.3951746 GEN[1,10] + 31.3951746 GEN[1,11] + 31.3951746 GEN[1,12] + 31.3951746 GEN[1,13] + 31.3951746 GEN[1,14] + 31.3951746 GEN[1,15] + 31.3951746 GEN[1,16] + 31.3951746 GEN[1,17] + 31.3951746 GEN[1,18] + 31.3951746 GEN[1,19] + 31.3951746 GEN[1,20] + 31.3951746 GEN[1,21] + 31.3951746 GEN[1,22] + 31.3951746 GEN[1,23] + 31.3951746 GEN[1,24] + 14.8788144 GEN[2,1] + 14.8788144 GEN[2,2] + 14.8788144 GEN[2,3] + 14.8788144 GEN[2,4] + 14.8788144 GEN[2,5] + 14.8788144 GEN[2,6] + [[...16700 terms omitted...]] + 2950 CAP[334] + 2950 CAP[335] + 2950 CAP[336] + 2950 CAP[337] + 2950 CAP[338] + 2950 CAP[339] + 2950 CAP[340] + 2950 CAP[341] + 2950 CAP[342] + 2950 CAP[343] + 2950 CAP[344] + 2950 CAP[345] + 2950 CAP[346] + 2950 CAP[347] + 2950 CAP[348] + 2950 CAP[349] + 2950 CAP[350] + 2950 CAP[351] + 2950 CAP[352] + 2950 CAP[353] + 2950 CAP[354] + 2950 CAP[355] + 2950 CAP[356] + 2950 CAP[357] + 2950 CAP[358] + 2950 CAP[359] + 2950 CAP[360] + 2950 CAP[361] + 2950 CAP[362] + 2950 CAP[363]"
      ]
     },
     "execution_count": 182,
     "metadata": {},
     "output_type": "execute_result"
    }
   ],
   "source": [
    "\n",
    "#### HELPER FUNCTIONS ####\n",
    "# Select a line column using i and j \n",
    "line = (i, j, col) -> lines[lines_map[(i, j)], col]\n",
    "# Subset of all lines connected to bus i\n",
    "J = i -> lines.t_bus[lines.f_bus .== i]\n",
    "# Select all generators in G connected to bus i\n",
    "sel = (G, i) -> collect(G)[gens[collect(G),:bus] .== i]\n",
    "\n",
    "function prev(t)\n",
    "    \"\"\"\n",
    "    Returns the t-1 index using wrapping to ensure\n",
    "    that if t-1 ∉ P then the largest t ∈ P is returned.\n",
    "    \"\"\"\n",
    "    P_i = findfirst(P_i -> t in P_i, P)\n",
    "    shift = first(P[P_i])\n",
    "    p = length(P[P_i])\n",
    "    return mod1(t - shift, p) + shift - 1\n",
    "end\n",
    "\n",
    "function get_CAP(g)\n",
    "    \"\"\"\n",
    "    Return CAP decision variable if g ∈ G_new.\n",
    "    Otherwise just return zero        \n",
    "    \"\"\"\n",
    "    return g ∈ G_new ? CATS_Model[:CAP][g] : 0\n",
    "end\n",
    "\n",
    "##### SETS ####\n",
    "G = gens[:, :gen_id]                 # G: Set of all generators\n",
    "G_new = gens[gens.canidate .==1, :gen_id]\n",
    "\n",
    "G_ess = gens[gens.ess .== 1, :gen_id]     # G_ess: Set of all energy storage system (ESS) generators\n",
    "G_solar = gens[gens.fueltype .== \"Solar Photovoltaic\", :gen_id]\n",
    "\n",
    "N = 1:nrow(buses)            # N: Set of all network nodes\n",
    "L = collect(zip(             # L: Set of all lines/branches\n",
    "    lines.f_bus, lines.t_bus))\n",
    "\n",
    "T = 1:ncol(loads)            # T: Set of all hours\n",
    "\n",
    "#### GLOBALS ####\n",
    "# Mapping from (i, j) tuple to line index l\n",
    "lines_map = Dict(zip(L, 1:length(L)))\n",
    "\n",
    "#### PARAMETERS ####\n",
    "θlim = π*(60/180)  # Absolute max angle limit in rad\n",
    "slack_bus = 416    # Set slack bus to one with many CTs\n",
    "\n",
    "storage_hrs = 4    # Storage Hours * Power Capacity = Energy capacity ∀ g ∈ G_s\n",
    "η_charge = 0.97    # Charging efficiency  \n",
    "η_discharge = 0.91 # Discharging efficiecy\n",
    "\n",
    "# Toy parameters for a limited investment in solar at each bus\n",
    "shed_cost = 1000 \n",
    "budget = 0\n",
    "solar_cost = 1475\n",
    "battery_cost = 1475 \n",
    "\n",
    "########################\n",
    "#####     MODEL    #####\n",
    "########################\n",
    "\n",
    "CATS_Model = Model(() -> Gurobi.Optimizer())\n",
    "\n",
    "# Decision variables   \n",
    "@variables(CATS_Model, begin\n",
    "    GEN[G,T] ≥ 0       # Generation of each generator \n",
    "    SHED[N,T] ≥ 0      # Load sheading at bus N\n",
    "    THETA[N,T]         # Voltage phase angle of bus\n",
    "    FLOW[L,T]          # Flows between all pairs of nodes\n",
    "    SOC[G_ess,T] ≥ 0     # ESS state of charge\n",
    "    CHARGE[G_ess,T] ≥ 0  # Chargeing of ESS \n",
    "    CAP[G_new] ≥ 0\n",
    "end)\n",
    "\n",
    "# Max and min generation constraints\n",
    "@constraint(CATS_Model, cMaxGenOld[g ∈ G, t ∈ T], \n",
    "    GEN[g,t] ≤ variability[g,t]*(gens[g,:pmax] + get_CAP(g)))\n",
    "\n",
    "# Load shedding constraint\n",
    "@constraint(CATS_Model, cShed[i ∈ N, t ∈ T], \n",
    "    SHED[i,t] ≤ loads[i,t])\n",
    "\n",
    "#########################\n",
    "#### BATTERY STORAGE ####\n",
    "#########################\n",
    "# Charging must be less than max power capacity\n",
    "@constraint(CATS_Model, cMaxCharge[g ∈ G_ess, t ∈ T], \n",
    "    CHARGE[g,t] ≤ gens[g,:pmax] + get_CAP(g))\n",
    "\n",
    "# Energy capacity must be less ×4 the power capacity\n",
    "@constraint(CATS_Model, cMaxStateOfCharge[g ∈ G_ess, t ∈ T], \n",
    "    SOC[g,t] ≤ storage_hrs*(gens[g,:pmax] + get_CAP(g)))\n",
    "\n",
    "# SOC in the next time is a function of SOC in the pervious time\n",
    "# with circular wrapping for the first and last t ∈ P_i\n",
    "@constraint(CATS_Model, cStateOfCharge[g ∈ G_ess, t ∈ T[2:24]],\n",
    "    SOC[g,t] == SOC[g,prev(t)] + (CHARGE[g,t]*η_charge - GEN[g,t]/η_charge))\n",
    "\n",
    "########################\n",
    "######## DC OPF ########\n",
    "########################\n",
    "# Create slack bus with theta=0\n",
    "fix.(THETA[slack_bus, T], 0)\n",
    "\n",
    "# Max line flow must be less than the nominal (RATE A) of the line\n",
    "@constraint(CATS_Model, cLineLimits[(i,j) ∈ L, t ∈ T], \n",
    "    FLOW[(i,j),t] ≤ line(i,j,:rate_a)) \n",
    "\n",
    "# Angle limited to less than 60 degrees \n",
    "@constraint(CATS_Model, cAngleLimitsMax[(i,j) ∈ L, t ∈ T], \n",
    "    (THETA[i,t] - THETA[j,t]) ≤  θlim)\n",
    "@constraint(CATS_Model, cAngleLimitsMin[(i,j) ∈ L, t ∈ T], \n",
    "    (THETA[i,t] - THETA[j,t]) ≥ -θlim)\n",
    "                \n",
    "# Flow is governed by angle difference between buses\n",
    "@constraint(CATS_Model, cLineFlows[(i,j) ∈ L, t ∈ T],\n",
    "    FLOW[(i,j),t] == line(i,j,:sus)*(THETA[i,t] - THETA[j,t]));\n",
    "\n",
    "# Power must be balanced at all nodes\n",
    "# Σ(generation) + shedding - Σ(demand) - Σ charging = Σ(flows) ∀ n ∈ N\n",
    "@constraint(CATS_Model, cBalance[i ∈ N, t ∈ T], \n",
    "    sum(GEN[g,t] for g ∈ sel(G, i))\n",
    "    + SHED[i,t] - loads[i,t] \n",
    "    - sum(CHARGE[g,t] for g ∈ sel(G_ess, i))\n",
    "     == sum(FLOW[(i,j),t] for j ∈ J(i)))\n",
    "\n",
    "#########################\n",
    "####### OBJECTIVE #######\n",
    "#########################\n",
    "\n",
    "# The weighted operational costs of running each generator\n",
    "@expression(CATS_Model, eVariableCosts,\n",
    "    sum(gens[g,:c1] * GEN[g,t] for g ∈ G, t ∈ T))\n",
    "\n",
    "# The weighted operational costs of shedding load/non-served energy (NSE)\n",
    "@expression(CATS_Model, eNSECosts,\n",
    "    sum(shed_cost * SHED[i,t] for i ∈ N, t ∈ T))\n",
    "\n",
    "# Fixed costs of all solar investments\n",
    "@expression(CATS_Model, eFixedCostsSolar,\n",
    "    sum(solar_cost * CAP[g] for g ∈ setdiff(G_new, G_solar)))\n",
    "\n",
    "# Fixed costs of all battery/ESS investments\n",
    "@expression(CATS_Model, eFixedCostsStorage,\n",
    "    sum(battery_cost * CAP[g] for g ∈ intersect(G_new, G_ess)))\n",
    "\n",
    "# Minimize the sum of investment and O&M costs \n",
    "@expression(CATS_Model, eTotalCosts,\n",
    "    eVariableCosts + eNSECosts + eFixedCostsStorage + eFixedCostsSolar)\n",
    "\n",
    "@objective(CATS_Model, Min, eTotalCosts)"
   ]
  },
  {
   "cell_type": "code",
   "execution_count": 184,
   "id": "5284e505-8bff-4204-bb19-0034a2f1a37a",
   "metadata": {},
   "outputs": [
    {
     "data": {
      "text/plain": [
       "1:24"
      ]
     },
     "execution_count": 184,
     "metadata": {},
     "output_type": "execute_result"
    }
   ],
   "source": [
    "T"
   ]
  },
  {
   "cell_type": "code",
   "execution_count": null,
   "id": "79b083e9-ed74-45e0-97aa-2b690237ffc0",
   "metadata": {},
   "outputs": [],
   "source": []
  }
 ],
 "metadata": {
  "kernelspec": {
   "display_name": "Julia 1.8.3",
   "language": "julia",
   "name": "julia-1.8"
  },
  "language_info": {
   "file_extension": ".jl",
   "mimetype": "application/julia",
   "name": "julia",
   "version": "1.8.3"
  }
 },
 "nbformat": 4,
 "nbformat_minor": 5
}
