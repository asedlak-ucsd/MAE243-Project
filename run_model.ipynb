{
 "cells": [
  {
   "cell_type": "markdown",
   "id": "14620f26-1fd1-434d-b51b-15523a568e25",
   "metadata": {},
   "source": [
    "# Model Formulation\n",
    "\n",
    "This notebook can be used to run initial model with DCOPF and a basic budget variable. Before running this nodebook please refer to `Test-System-Data-Processing.ipynb` to preprocess generator, lines, buses, and loads data. "
   ]
  },
  {
   "cell_type": "code",
   "execution_count": 3,
   "id": "6a1fde6e-1296-4a9b-af6a-09084880e61b",
   "metadata": {},
   "outputs": [
    {
     "data": {
      "text/plain": [
       "expansion (generic function with 1 method)"
      ]
     },
     "execution_count": 3,
     "metadata": {},
     "output_type": "execute_result"
    }
   ],
   "source": [
    "using JuMP, Gurobi\n",
    "using DataFrames, CSV\n",
    "\n",
    "include(joinpath(\"capex_model\", \"expansion_tools.jl\"))\n",
    "include(joinpath(\"capex_model\", \"model.jl\"))"
   ]
  },
  {
   "cell_type": "code",
   "execution_count": null,
   "id": "c437c65e-0d77-48df-8e53-09f99b198c29",
   "metadata": {},
   "outputs": [],
   "source": []
  },
  {
   "cell_type": "code",
   "execution_count": 17,
   "id": "43bc2507-f1f2-49fe-9d81-120069220be1",
   "metadata": {
    "scrolled": true
   },
   "outputs": [
    {
     "name": "stdout",
     "output_type": "stream",
     "text": [
      "Set parameter Username\n",
      "Set parameter LicenseID to value 2669913\n",
      "Academic license - for non-commercial use only - expires 2026-05-22\n",
      "Gurobi Optimizer version 12.0.2 build v12.0.2rc0 (mac64[arm] - Darwin 24.5.0 24F74)\n",
      "\n",
      "CPU model: Apple M2 Ultra\n",
      "Thread count: 24 physical cores, 24 logical processors, using up to 24 threads\n",
      "\n",
      "Optimize a model with 101376 rows, 68926 columns and 224564 nonzeros\n",
      "Model fingerprint: 0x22ef01fa\n",
      "Coefficient statistics:\n",
      "  Matrix range     [1e-03, 1e+07]\n",
      "  Objective range  [7e+00, 1e+03]\n",
      "  Bounds range     [0e+00, 0e+00]\n",
      "  RHS range        [4e-03, 2e+03]\n",
      "Presolve removed 70048 rows and 38892 columns\n",
      "Presolve time: 0.08s\n",
      "Presolved: 31328 rows, 30034 columns, 116667 nonzeros\n",
      "\n",
      "Concurrent LP optimizer: primal simplex, dual simplex, and barrier\n",
      "Showing barrier log only...\n",
      "\n",
      "Ordering time: 0.30s\n",
      "\n",
      "Barrier statistics:\n",
      " Free vars  : 52\n",
      " AA' NZ     : 5.368e+05\n",
      " Factor NZ  : 3.857e+06 (roughly 60 MB of memory)\n",
      " Factor Ops : 1.808e+09 (less than 1 second per iteration)\n",
      " Threads    : 22\n",
      "\n",
      "                  Objective                Residual\n",
      "Iter       Primal          Dual         Primal    Dual     Compl     Time\n",
      "   0   1.71809679e+11 -2.64656772e+11  5.85e+04 6.79e+04  8.04e+08     0s\n",
      "   1   6.95854474e+10 -1.78751752e+11  2.33e+04 2.31e+04  3.06e+08     0s\n",
      "   2   1.71309129e+10 -1.39153842e+11  5.26e+03 9.84e+03  9.71e+07     1s\n",
      "   3   5.00971056e+09 -8.80733657e+10  1.07e+03 1.54e+03  1.86e+07     1s\n",
      "   4   2.99994892e+09 -4.89057427e+10  2.30e+02 1.78e+02  3.50e+06     1s\n",
      "   5   1.97766272e+09 -1.96908951e+10  1.95e+01 2.14e+01  5.90e+05     1s\n",
      "   6   1.09200613e+09 -3.93534446e+09  3.34e+00 2.29e+00  1.04e+05     1s\n",
      "   7   2.94367474e+08 -5.19783335e+08  4.10e-01 2.26e-01  1.49e+04     1s\n",
      "   8   1.83381511e+08 -1.23884847e+08  2.38e-01 4.55e-02  5.49e+03     1s\n",
      "   9   4.11377337e+07 -8.30512768e+07  4.87e-02 3.01e-02  2.19e+03     1s\n",
      "  10   1.20302712e+07 -2.78202404e+07  1.13e-02 9.98e-03  6.98e+02     1s\n",
      "  11   8.48992231e+06 -1.02415237e+07  7.28e-03 3.88e-03  3.28e+02     1s\n",
      "  12   4.04029601e+06 -2.65677354e+06  1.98e-03 1.33e-03  1.17e+02     1s\n",
      "  13   3.26766984e+06 -5.60904055e+05  1.26e-03 6.82e-04  6.69e+01     1s\n",
      "  14   2.82616205e+06  3.89509708e+05  8.75e-04 3.81e-04  4.26e+01     1s\n",
      "  15   2.46099107e+06  1.03835289e+06  5.71e-04 1.93e-04  2.49e+01     1s\n",
      "  16   2.13801781e+06  1.34599969e+06  3.06e-04 1.06e-04  1.38e+01     1s\n",
      "  17   1.93571461e+06  1.66498172e+06  1.38e-04 6.31e-05  4.74e+00     1s\n",
      "  18   1.84479645e+06  1.69782557e+06  6.82e-05 4.59e-05  2.57e+00     1s\n",
      "  19   1.80415780e+06  1.71916124e+06  3.47e-05 3.16e-05  1.49e+00     1s\n",
      "  20   1.78788767e+06  1.73975790e+06  2.22e-05 1.58e-05  8.42e-01     1s\n",
      "  21   1.77226332e+06  1.74776313e+06  1.06e-05 1.00e-05  4.28e-01     1s\n",
      "  22   1.76387051e+06  1.75350329e+06  4.73e-06 8.73e-06  1.81e-01     1s\n",
      "  23   1.76109245e+06  1.75496564e+06  3.01e-06 1.07e-05  1.07e-01     1s\n",
      "  24   1.75899573e+06  1.75526741e+06  1.79e-06 8.48e-06  6.52e-02     1s\n",
      "  25   1.75700744e+06  1.75577485e+06  4.46e-07 4.42e-06  2.15e-02     1s\n",
      "  26   1.75664130e+06  1.75627966e+06  1.75e-07 7.74e-07  6.32e-03     1s\n",
      "  27   1.75640688e+06  1.75639207e+06  1.24e-07 7.50e-08  2.60e-04     1s\n",
      "  28   1.75640070e+06  1.75640031e+06  6.05e-09 2.10e-09  6.81e-06     1s\n",
      "  29   1.75640034e+06  1.75640034e+06  9.37e-09 1.64e-09  5.79e-08     1s\n",
      "  30   1.75640034e+06  1.75640034e+06  4.62e-09 6.28e-10  5.89e-11     1s\n",
      "\n",
      "Barrier solved model in 30 iterations and 1.20 seconds (1.55 work units)\n",
      "Optimal objective 1.75640034e+06\n",
      "\n",
      "Crossover log...\n",
      "\n",
      "   14027 DPushes remaining with DInf 0.0000000e+00                 1s\n",
      "       0 DPushes remaining with DInf 0.0000000e+00                 2s\n",
      "\n",
      "      77 PPushes remaining with PInf 0.0000000e+00                 2s\n",
      "       0 PPushes remaining with PInf 0.0000000e+00                 2s\n",
      "\n",
      "  Push phase complete: Pinf 0.0000000e+00, Dinf 3.7061348e-08      2s\n",
      "\n",
      "\n",
      "Solved with barrier\n",
      "Iteration    Objective       Primal Inf.    Dual Inf.      Time\n",
      "    6864    1.7564003e+06   0.000000e+00   0.000000e+00      2s\n",
      "\n",
      "Solved in 6864 iterations and 1.89 seconds (2.27 work units)\n",
      "Optimal objective  1.756400339e+06\n",
      "\n",
      "User-callback calls 15169, time in user-callback 0.00 sec\n"
     ]
    }
   ],
   "source": [
    "#run_model(load, basic_capex, save, \"san_diego_system\", \"test_senario\")\n",
    "(buses, lines, gens, loads, variability, P, W) = load(\"san_diego_system\")\n",
    "model = expansion(buses, lines, gens, loads, variability, P, W)\n",
    "save(model, \"san_diego_system\", \"test_senario_fires\", buses, lines, gens, loads);\n",
    "\n",
    "# start 5:36"
   ]
  },
  {
   "cell_type": "code",
   "execution_count": null,
   "id": "50bc7331-3111-4e04-8654-6e6b3d85c59f",
   "metadata": {},
   "outputs": [],
   "source": [
    "#91s with contraints on new cap\n",
    "#16s with no constraints on new cap\n",
    "#7s with no constraints on cap or angles\n",
    "\n",
    "\n",
    "# 3mins to solve one week (with/without angle constraints)"
   ]
  },
  {
   "cell_type": "code",
   "execution_count": 10,
   "id": "d981d47e-940b-4c9b-805c-b1f3498c6c57",
   "metadata": {
    "scrolled": true
   },
   "outputs": [
    {
     "data": {
      "text/plain": [
       "24-element Vector{Float64}:\n",
       " 1.0\n",
       " 1.0\n",
       " 1.0\n",
       " 1.0\n",
       " 1.0\n",
       " 1.0\n",
       " 1.0\n",
       " 1.0\n",
       " 1.0\n",
       " 1.0\n",
       " 1.0\n",
       " 1.0\n",
       " 1.0\n",
       " 1.0\n",
       " 1.0\n",
       " 1.0\n",
       " 1.0\n",
       " 1.0\n",
       " 1.0\n",
       " 1.0\n",
       " 1.0\n",
       " 1.0\n",
       " 1.0\n",
       " 1.0"
      ]
     },
     "execution_count": 10,
     "metadata": {},
     "output_type": "execute_result"
    }
   ],
   "source": [
    "W"
   ]
  },
  {
   "cell_type": "code",
   "execution_count": null,
   "id": "a24c49d7-4b0e-41d0-b981-9437cff5037b",
   "metadata": {},
   "outputs": [],
   "source": [
    "# TODOs \n",
    "# a) Get the correct costs of solar and battery investments\n",
    "# b) Add a budget constraint for total investment (this will help things from getting too crazy)\\\n",
    "# c) More charts for post analysis (e.g., what was the year's generation)? \n",
    "# d) Scenatios? With and without line de-energized (vary budget, vary solar + battery costs) ==> 8-10 senarios?\n",
    "\n",
    "## Questions for Qi ##\n",
    "# a) costs? How do you handel the fact that costs are quadratic? Also why do they include c0?\n",
    "# b) 1e-8 * 100 * (2700000 / 20 + 12500) # What are the units of this? and why do batteries cost less than solar??\n",
    "\n",
    "\n",
    "# - Ramping <-- will just be a limitation of the work...\n",
    "\n",
    "# 3 mins to solve 1 week of cap ex"
   ]
  }
 ],
 "metadata": {
  "kernelspec": {
   "display_name": "Julia 1.8.3",
   "language": "julia",
   "name": "julia-1.8"
  },
  "language_info": {
   "file_extension": ".jl",
   "mimetype": "application/julia",
   "name": "julia",
   "version": "1.8.3"
  }
 },
 "nbformat": 4,
 "nbformat_minor": 5
}
