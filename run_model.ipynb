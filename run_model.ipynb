{
 "cells": [
  {
   "cell_type": "markdown",
   "id": "14620f26-1fd1-434d-b51b-15523a568e25",
   "metadata": {},
   "source": [
    "# Model Formulation\n",
    "\n",
    "This notebook can be used to run initial model with DCOPF and a basic budget variable. Before running this nodebook please refer to `Test-System-Data-Processing.ipynb` to preprocess generator, lines, buses, and loads data. "
   ]
  },
  {
   "cell_type": "code",
   "execution_count": 168,
   "id": "6a1fde6e-1296-4a9b-af6a-09084880e61b",
   "metadata": {},
   "outputs": [
    {
     "data": {
      "text/plain": [
       "expansion (generic function with 1 method)"
      ]
     },
     "execution_count": 168,
     "metadata": {},
     "output_type": "execute_result"
    }
   ],
   "source": [
    "using JuMP, Gurobi\n",
    "using DataFrames, CSV\n",
    "\n",
    "include(joinpath(\"capex_model\", \"expansion_tools.jl\"))\n",
    "include(joinpath(\"capex_model\", \"model.jl\"))"
   ]
  },
  {
   "cell_type": "code",
   "execution_count": 176,
   "id": "c437c65e-0d77-48df-8e53-09f99b198c29",
   "metadata": {},
   "outputs": [
    {
     "data": {
      "text/plain": [
       "240"
      ]
     },
     "execution_count": 176,
     "metadata": {},
     "output_type": "execute_result"
    }
   ],
   "source": [
    "length(1:ncol(loads))"
   ]
  },
  {
   "cell_type": "code",
   "execution_count": null,
   "id": "43bc2507-f1f2-49fe-9d81-120069220be1",
   "metadata": {},
   "outputs": [
    {
     "name": "stdout",
     "output_type": "stream",
     "text": [
      "Set parameter Username\n",
      "Set parameter LicenseID to value 2669913\n",
      "Academic license - for non-commercial use only - expires 2026-05-22\n",
      "Model init okay.\n",
      "Max constraints okay.\n",
      "Storage constraints okay.\n"
     ]
    }
   ],
   "source": [
    "#run_model(load, basic_capex, save, \"san_diego_system\", \"test_senario\")\n",
    "(buses, lines, gens, loads, variability, P, W) = load(\"san_diego_system\")\n",
    "model = expansion(buses, lines, gens, loads, variability, P, W)\n",
    "#save(model, \"san_diego_system\", \"psps_100\", buses, lines, gens, loads);"
   ]
  },
  {
   "cell_type": "code",
   "execution_count": 166,
   "id": "50bc7331-3111-4e04-8654-6e6b3d85c59f",
   "metadata": {},
   "outputs": [],
   "source": [
    "save(model, \"san_diego_system\", \"nom_100\", buses, lines, gens, loads);"
   ]
  },
  {
   "cell_type": "code",
   "execution_count": 152,
   "id": "a24c49d7-4b0e-41d0-b981-9437cff5037b",
   "metadata": {},
   "outputs": [],
   "source": [
    "sleep(1)"
   ]
  },
  {
   "cell_type": "code",
   "execution_count": null,
   "id": "690f7d94-2a52-40f7-bd5d-c7a153d53af8",
   "metadata": {},
   "outputs": [],
   "source": []
  }
 ],
 "metadata": {
  "kernelspec": {
   "display_name": "Julia 1.8.3",
   "language": "julia",
   "name": "julia-1.8"
  },
  "language_info": {
   "file_extension": ".jl",
   "mimetype": "application/julia",
   "name": "julia",
   "version": "1.8.3"
  }
 },
 "nbformat": 4,
 "nbformat_minor": 5
}
