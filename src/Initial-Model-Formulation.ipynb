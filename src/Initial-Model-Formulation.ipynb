{
 "cells": [
  {
   "cell_type": "markdown",
   "id": "14620f26-1fd1-434d-b51b-15523a568e25",
   "metadata": {},
   "source": [
    "# Model Formulation\n",
    "\n",
    "This notebook can be used to run initial model with DCOPF and a basic budget variable. Before running this nodebook please refer to `Test-System-Data-Processing.ipynb` to preprocess generator, lines, buses, and loads data. "
   ]
  },
  {
   "cell_type": "code",
   "execution_count": 53,
   "id": "6a1fde6e-1296-4a9b-af6a-09084880e61b",
   "metadata": {},
   "outputs": [],
   "source": [
    "using JuMP, Gurobi\n",
    "using DataFrames, CSV"
   ]
  },
  {
   "cell_type": "code",
   "execution_count": 56,
   "id": "c9766d6d-22ef-464d-8417-e7308a634264",
   "metadata": {},
   "outputs": [
    {
     "name": "stdout",
     "output_type": "stream",
     "text": [
      "Consistent buses: true\n"
     ]
    }
   ],
   "source": [
    "# Global path to test system datasets\n",
    "PATH = joinpath(pwd(), \"..\", \"data\", \"test_system\") \n",
    "\n",
    "# Load each of the San Diego test system files \n",
    "gens = CSV.read(joinpath(PATH, \"gens.csv\"), DataFrame);\n",
    "lines = CSV.read(joinpath(PATH, \"lines.csv\"), DataFrame);\n",
    "buses = CSV.read(joinpath(PATH, \"buses.csv\"), DataFrame);\n",
    "loads = CSV.read(joinpath(PATH, \"loads_24h_sp.csv\"), DataFrame);\n",
    "\n",
    "# Remove Synchrnous Condensers\n",
    "gens = gens[gens[:, :fueltype] .≠ \"Synchronous Condenser\", :]\n",
    "\n",
    "# Add load to bus dataset equal to first hour of load\n",
    "buses[:, :pd] = loads[:, 2];\n",
    "println(\"Consistent buses: \", all(buses[:, :bus] .== loads[:, :bus]))\n",
    "\n",
    "# Reindex buses go from 1:n\n",
    "# This is performed to make model indexing consistent \n",
    "# with generator and bus indexing.\n",
    "bus_map = Dict(buses[:, :bus] .=> 1:nrow(buses))\n",
    "buses = transform(buses, :bus => ByRow(x -> get(bus_map, x, x)) => :bus)\n",
    "gens = transform(gens, :bus => ByRow(x -> get(bus_map, x, x)) => :bus)\n",
    "lines = transform(lines, :t_bus => ByRow(x -> get(bus_map, x, x)) => :t_bus)\n",
    "lines = transform(lines, :f_bus => ByRow(x -> get(bus_map, x, x)) => :f_bus)\n",
    "\n",
    "# Reindex generators to go from 1:m\n",
    "gen_map = Dict(gens[:, :id] .=> 1:nrow(gens))\n",
    "gens = transform(gens, :id => ByRow(x -> get(gen_map, x, x)) => :id)\n",
    "\n",
    "# Add line susceptance B = X / (R² + X²)\n",
    "lines[:, :sus] = lines.x ./ (lines.r .^2 + lines.x .^2);"
   ]
  },
  {
   "cell_type": "code",
   "execution_count": 74,
   "id": "7e16bf49-0597-4327-afc8-a183310ad8d3",
   "metadata": {},
   "outputs": [
    {
     "data": {
      "text/plain": [
       "initialize_model (generic function with 1 method)"
      ]
     },
     "execution_count": 74,
     "metadata": {},
     "output_type": "execute_result"
    }
   ],
   "source": [
    "function initialize_model(gens, lines, buses)\n",
    "    \"\"\"\n",
    "    Function to solve DC OPF problem \n",
    "    Inputs:\n",
    "        gens -- dataframe with generator info and costs\n",
    "        lines -- dataframe with transmission lines info\n",
    "        buses -- dataframe with bus types and loads\n",
    "    \"\"\"\n",
    "    # Sets\n",
    "    G = 1:nrow(gens)       # G: Set of all generators\n",
    "    N = 1:nrow(buses)      # N: Set of all network nodes\n",
    "    L = 1:nrow(lines)      # L: Set of all lines/branches\n",
    "    fbus = lines[!,:f_bus] # All from buses\n",
    "    tbus = lines[!,:t_bus] # All to buses    \n",
    "    demand = buses[!,:pd]  # Demand at bus all buses\n",
    "\n",
    "    # Parameters\n",
    "    baseMVA = 100      # The base MVA is 100 MVA\n",
    "    θlim = π*(30/180)  # Absolute max angle limit in rad\n",
    "    slack_bus = 416    # Set slack bus to one with many CTs\n",
    "    shed_cost = 1000   # Cost of load sheding\n",
    "\n",
    "    # Toy parameters for a limited investment in solar at each bus\n",
    "    budget = 0\n",
    "    solar_cost = 0.1475\n",
    "    \n",
    "    # Model\n",
    "    DCOPF = Model(()->Gurobi.Optimizer())\n",
    "    set_optimizer_attribute(DCOPF, \"NumericFocus\", 2)\n",
    "    \n",
    "    # Decision variables   \n",
    "    @variables(DCOPF, begin\n",
    "        GEN[G]          # Generation of each generator \n",
    "        SHED[N] ≥ 0     # Load sheading at bus N\n",
    "        CAP[N]  ≥ 0     # Installed solar capacity at each node\n",
    "        THETA[N]        # Voltage phase angle of bus\n",
    "        FLOW[N,N]       # Flows between all pairs of nodes\n",
    "        FLOW⁺[N,N] ≥ 0  # + Auxiliary flow variable\n",
    "        FLOW⁻[N,N] ≥ 0  # - Auxiliary flow variable\n",
    "        LOSS[N,N]  ≥ 0  # Non-negative line loss between a pair of nodes\n",
    "    end)\n",
    "                \n",
    "    # Objective function (Note: Using just the linear part of quadratic cost)\n",
    "    @objective(DCOPF, Min, \n",
    "        sum(gens[g,:c1] * GEN[g] for g ∈ G) + sum(shed_cost*SHED[i] for i ∈ N))\n",
    "    \n",
    "    # Supply demand balances: sum(generation) + shedding - demand - 0.5*sum(losses) = sum(flows)\n",
    "    @constraint(DCOPF, cBalance[i ∈ N], \n",
    "        sum(GEN[g] for g ∈ G[gens.bus .== i])\n",
    "        - demand[i] + SHED[i] + CAP[i]\n",
    "        - 0.5*sum(LOSS[i,j] for j ∈ tbus[fbus .== i])\n",
    "         == sum(FLOW[i,j] for j ∈ tbus[fbus .== i]))\n",
    "\n",
    "    # Budget constraint \n",
    "    @constraint(DCOPF, cBudget,\n",
    "        sum(CAP[i] for i ∈ N)*solar_cost ≤ budget)\n",
    "    \n",
    "    # Max and min generation constraints\n",
    "    @constraint(DCOPF, cMaxGen[g ∈ G], GEN[g] ≤ gens[g,:pmax])\n",
    "    @constraint(DCOPF, cMinGen[g ∈ G], GEN[g] ≥ gens[g,:pmin])\n",
    "    \n",
    "    # Max line flow constraints\n",
    "    @constraint(DCOPF, cLineLimits[l ∈ L], \n",
    "        FLOW[lines[l,:f_bus], lines[l,:t_bus]] ≤ lines[l,:rate_a]) \n",
    "\n",
    "    # Create slack bus with theta=0\n",
    "    fix(THETA[slack_bus], 0)\n",
    "    \n",
    "    # Angle limits \n",
    "    @constraint(DCOPF, cAngleLimitsMax[l ∈ L], \n",
    "        (THETA[fbus[l]] - THETA[tbus[l]]) ≤  θlim)\n",
    "    @constraint(DCOPF, cAngleLimitsMin[l ∈ L], \n",
    "        (THETA[fbus[l]] - THETA[tbus[l]]) ≥ -θlim)\n",
    "                    \n",
    "    # Flow constraints on each branch\n",
    "    @constraint(DCOPF, cLineFlows[l ∈ L],\n",
    "            FLOW[fbus[l], tbus[l]] ==\n",
    "            baseMVA*lines[l,:sus]*(THETA[fbus[l]] - THETA[tbus[l]]))\n",
    "\n",
    "    # Loss constraints on each line: |FLOWᵢⱼ| = FLOW⁺ᵢⱼ + FLOW⁻ᵢⱼ\n",
    "    @constraint(DCOPF, cLineLoss[l ∈ L],\n",
    "            LOSS[fbus[l], tbus[l]] ≥ \n",
    "            (lines[l, :r] / baseMVA) * (lines[l, :rate_a])^2\n",
    "            * (((FLOW⁺[fbus[l], tbus[l]]+FLOW⁻[fbus[l], tbus[l]])\n",
    "            / lines[l, :rate_a]) - 0.165)\n",
    "    )\n",
    "\n",
    "    # Auxiliary flow constraints: FLOWᵢⱼ = FLOW⁺ᵢⱼ - FLOW⁻ᵢⱼ\n",
    "    @constraint(DCOPF, cAuxFlows[l ∈ L],\n",
    "            FLOW[fbus[l], tbus[l]] == \n",
    "            FLOW⁺[fbus[l], tbus[l]] - FLOW⁻[fbus[l], tbus[l]]\n",
    "    )\n",
    "    \n",
    "    return DCOPF\n",
    "end"
   ]
  },
  {
   "cell_type": "code",
   "execution_count": 76,
   "id": "43bc2507-f1f2-49fe-9d81-120069220be1",
   "metadata": {},
   "outputs": [
    {
     "data": {
      "text/plain": [
       "model_outputs (generic function with 1 method)"
      ]
     },
     "execution_count": 76,
     "metadata": {},
     "output_type": "execute_result"
    }
   ],
   "source": [
    "function model_outputs(model, gens, lines, buses)\n",
    "\n",
    "    N = 1:nrow(buses)      # N: Set of all network nodes\n",
    "    fbus = lines[!,:f_bus] # All from buses\n",
    "    tbus = lines[!,:t_bus] # All to buses\n",
    "    baseMVA = 100\n",
    "    \n",
    "    generation = DataFrame(\n",
    "        id = gens.id,\n",
    "        node = gens.bus,\n",
    "        gen = value.(model[:GEN]).data\n",
    "        )\n",
    "    \n",
    "    # Angles of each bus\n",
    "    angles = value.(model[:THETA]).data\n",
    "    \n",
    "    flows = DataFrame(\n",
    "        fbus = fbus,\n",
    "        tbus = tbus,\n",
    "        flow = baseMVA .* lines.sus .* (angles[fbus] .- angles[tbus])\n",
    "    )\n",
    "    \n",
    "    prices = DataFrame(\n",
    "        node = N,\n",
    "        value = dual.(model[:cBalance]).data\n",
    "    )\n",
    "    # Amound of load shed at each bus\n",
    "    shedding = DataFrame(\n",
    "        node = N,\n",
    "        shed =value.(model[:SHED]).data\n",
    "    )\n",
    "    \n",
    "    return (\n",
    "        generation = generation, \n",
    "        angles,\n",
    "        flows,\n",
    "        prices,\n",
    "        shedding,\n",
    "        cost = objective_value(model),\n",
    "        status = termination_status(model)\n",
    "    )\n",
    "end"
   ]
  },
  {
   "cell_type": "code",
   "execution_count": 78,
   "id": "c8a7d431-8576-46bd-bba7-34f61ef5e398",
   "metadata": {},
   "outputs": [
    {
     "name": "stdout",
     "output_type": "stream",
     "text": [
      "Set parameter Username\n",
      "Set parameter LicenseID to value 2669913\n",
      "Academic license - for non-commercial use only - expires 2026-05-22\n",
      "Set parameter NumericFocus to value 2\n"
     ]
    },
    {
     "data": {
      "text/plain": [
       "A JuMP Model\n",
       "├ solver: Gurobi\n",
       "├ objective_sense: MIN_SENSE\n",
       "│ └ objective_function_type: AffExpr\n",
       "├ num_variables: 911675\n",
       "├ num_constraints: 690864\n",
       "│ ├ AffExpr in MOI.EqualTo{Float64}: 2673\n",
       "│ ├ AffExpr in MOI.GreaterThan{Float64}: 2324\n",
       "│ ├ AffExpr in MOI.LessThan{Float64}: 2325\n",
       "│ ├ VariableRef in MOI.EqualTo{Float64}: 1\n",
       "│ └ VariableRef in MOI.GreaterThan{Float64}: 683541\n",
       "└ Names registered in the model\n",
       "  └ :CAP, :FLOW, :FLOW⁺, :FLOW⁻, :GEN, :LOSS, :SHED, :THETA, :cAngleLimitsMax, :cAngleLimitsMin, :cAuxFlows, :cBalance, :cBudget, :cLineFlows, :cLineLimits, :cLineLoss, :cMaxGen, :cMinGen"
      ]
     },
     "execution_count": 78,
     "metadata": {},
     "output_type": "execute_result"
    }
   ],
   "source": [
    "dcopf = initialize_model(gens, lines, buses)"
   ]
  },
  {
   "cell_type": "code",
   "execution_count": 80,
   "id": "7c0be71d-6073-4769-a488-f935df1fb7d5",
   "metadata": {},
   "outputs": [
    {
     "name": "stdout",
     "output_type": "stream",
     "text": [
      "Set parameter NumericFocus to value 2\n",
      "Gurobi Optimizer version 12.0.2 build v12.0.2rc0 (mac64[arm] - Darwin 24.5.0 24F74)\n",
      "\n",
      "CPU model: Apple M2 Ultra\n",
      "Thread count: 24 physical cores, 24 logical processors, using up to 24 threads\n",
      "\n",
      "Non-default parameters:\n",
      "NumericFocus  2\n",
      "\n",
      "Optimize a model with 7322 rows, 911675 columns and 19355 nonzeros\n",
      "Model fingerprint: 0x1c36971f\n",
      "Coefficient statistics:\n",
      "  Matrix range     [7e-08, 1e+07]\n",
      "  Objective range  [7e+00, 1e+03]\n",
      "  Bounds range     [0e+00, 0e+00]\n",
      "  RHS range        [4e-08, 3e+02]\n",
      "Warning: Model contains large matrix coefficient range\n",
      "Presolve removed 4488 rows and 907182 columns\n",
      "Presolve time: 0.09s\n",
      "Presolved: 2834 rows, 4633 columns, 11046 nonzeros\n",
      "\n",
      "Iteration    Objective       Primal Inf.    Dual Inf.      Time\n",
      "       0      handle free variables                          0s\n",
      "Warning: 1 variables dropped from basis\n",
      "    3758    2.7004332e+06   0.000000e+00   0.000000e+00      1s\n",
      "\n",
      "Solved in 3758 iterations and 0.55 seconds (1.36 work units)\n",
      "Optimal objective  2.700433236e+06\n",
      "\n",
      "User-callback calls 3895, time in user-callback 0.00 sec\n"
     ]
    }
   ],
   "source": [
    "optimize!(dcopf)"
   ]
  },
  {
   "cell_type": "code",
   "execution_count": 82,
   "id": "f2ec8e2b-e002-47f5-bd34-988b7815e848",
   "metadata": {},
   "outputs": [],
   "source": [
    "solution = model_outputs(dcopf, gens, lines, buses);"
   ]
  },
  {
   "cell_type": "code",
   "execution_count": 84,
   "id": "2c440843-cadc-49d4-a2f7-1ef4c9cd99ba",
   "metadata": {},
   "outputs": [
    {
     "data": {
      "text/html": [
       "<div><div style = \"float: left;\"><span>13×2 DataFrame</span></div><div style = \"clear: both;\"></div></div><div class = \"data-frame\" style = \"overflow-x: scroll;\"><table class = \"data-frame\" style = \"margin-bottom: 6px;\"><thead><tr class = \"header\"><th class = \"rowNumber\" style = \"font-weight: bold; text-align: right;\">Row</th><th style = \"text-align: left;\">fueltype</th><th style = \"text-align: left;\">gen_sum</th></tr><tr class = \"subheader headerLastRow\"><th class = \"rowNumber\" style = \"font-weight: bold; text-align: right;\"></th><th title = \"String\" style = \"text-align: left;\">String</th><th title = \"Float64\" style = \"text-align: left;\">Float64</th></tr></thead><tbody><tr><td class = \"rowNumber\" style = \"font-weight: bold; text-align: right;\">1</td><td style = \"text-align: left;\">Conventional Hydroelectric</td><td style = \"text-align: right;\">7.75488</td></tr><tr><td class = \"rowNumber\" style = \"font-weight: bold; text-align: right;\">2</td><td style = \"text-align: left;\">Other Waste Biomass</td><td style = \"text-align: right;\">0.0</td></tr><tr><td class = \"rowNumber\" style = \"font-weight: bold; text-align: right;\">3</td><td style = \"text-align: left;\">Natural Gas Fired Combustion Turbine</td><td style = \"text-align: right;\">70.5192</td></tr><tr><td class = \"rowNumber\" style = \"font-weight: bold; text-align: right;\">4</td><td style = \"text-align: left;\">Petroleum Liquids</td><td style = \"text-align: right;\">4.5</td></tr><tr><td class = \"rowNumber\" style = \"font-weight: bold; text-align: right;\">5</td><td style = \"text-align: left;\">Landfill Gas</td><td style = \"text-align: right;\">11.8</td></tr><tr><td class = \"rowNumber\" style = \"font-weight: bold; text-align: right;\">6</td><td style = \"text-align: left;\">Natural Gas Fired Combined Cycle</td><td style = \"text-align: right;\">34.4568</td></tr><tr><td class = \"rowNumber\" style = \"font-weight: bold; text-align: right;\">7</td><td style = \"text-align: left;\">Solar Photovoltaic</td><td style = \"text-align: right;\">58.8121</td></tr><tr><td class = \"rowNumber\" style = \"font-weight: bold; text-align: right;\">8</td><td style = \"text-align: left;\">Natural Gas Internal Combustion Engine</td><td style = \"text-align: right;\">3.6</td></tr><tr><td class = \"rowNumber\" style = \"font-weight: bold; text-align: right;\">9</td><td style = \"text-align: left;\">Onshore Wind Turbine</td><td style = \"text-align: right;\">4.69156</td></tr><tr><td class = \"rowNumber\" style = \"font-weight: bold; text-align: right;\">10</td><td style = \"text-align: left;\">Batteries</td><td style = \"text-align: right;\">28.5246</td></tr><tr><td class = \"rowNumber\" style = \"font-weight: bold; text-align: right;\">11</td><td style = \"text-align: left;\">Hydroelectric Pumped Storage</td><td style = \"text-align: right;\">1.12541</td></tr><tr><td class = \"rowNumber\" style = \"font-weight: bold; text-align: right;\">12</td><td style = \"text-align: left;\">Other Natural Gas</td><td style = \"text-align: right;\">3.6</td></tr><tr><td class = \"rowNumber\" style = \"font-weight: bold; text-align: right;\">13</td><td style = \"text-align: left;\">IMPORT</td><td style = \"text-align: right;\">6.02899</td></tr></tbody></table></div>"
      ],
      "text/latex": [
       "\\begin{tabular}{r|cc}\n",
       "\t& fueltype & gen\\_sum\\\\\n",
       "\t\\hline\n",
       "\t& String & Float64\\\\\n",
       "\t\\hline\n",
       "\t1 & Conventional Hydroelectric & 7.75488 \\\\\n",
       "\t2 & Other Waste Biomass & 0.0 \\\\\n",
       "\t3 & Natural Gas Fired Combustion Turbine & 70.5192 \\\\\n",
       "\t4 & Petroleum Liquids & 4.5 \\\\\n",
       "\t5 & Landfill Gas & 11.8 \\\\\n",
       "\t6 & Natural Gas Fired Combined Cycle & 34.4568 \\\\\n",
       "\t7 & Solar Photovoltaic & 58.8121 \\\\\n",
       "\t8 & Natural Gas Internal Combustion Engine & 3.6 \\\\\n",
       "\t9 & Onshore Wind Turbine & 4.69156 \\\\\n",
       "\t10 & Batteries & 28.5246 \\\\\n",
       "\t11 & Hydroelectric Pumped Storage & 1.12541 \\\\\n",
       "\t12 & Other Natural Gas & 3.6 \\\\\n",
       "\t13 & IMPORT & 6.02899 \\\\\n",
       "\\end{tabular}\n"
      ],
      "text/plain": [
       "\u001b[1m13×2 DataFrame\u001b[0m\n",
       "\u001b[1m Row \u001b[0m│\u001b[1m fueltype                          \u001b[0m\u001b[1m gen_sum  \u001b[0m\n",
       "     │\u001b[90m String                            \u001b[0m\u001b[90m Float64  \u001b[0m\n",
       "─────┼─────────────────────────────────────────────\n",
       "   1 │ Conventional Hydroelectric          7.75488\n",
       "   2 │ Other Waste Biomass                 0.0\n",
       "   3 │ Natural Gas Fired Combustion Tur…  70.5192\n",
       "   4 │ Petroleum Liquids                   4.5\n",
       "   5 │ Landfill Gas                       11.8\n",
       "   6 │ Natural Gas Fired Combined Cycle   34.4568\n",
       "   7 │ Solar Photovoltaic                 58.8121\n",
       "   8 │ Natural Gas Internal Combustion …   3.6\n",
       "   9 │ Onshore Wind Turbine                4.69156\n",
       "  10 │ Batteries                          28.5246\n",
       "  11 │ Hydroelectric Pumped Storage        1.12541\n",
       "  12 │ Other Natural Gas                   3.6\n",
       "  13 │ IMPORT                              6.02899"
      ]
     },
     "execution_count": 84,
     "metadata": {},
     "output_type": "execute_result"
    }
   ],
   "source": [
    "# Get generation by type\n",
    "gdf = groupby(innerjoin(gens, solution.generation, on = :id), :fueltype)\n",
    "combine(gdf, :gen => sum)"
   ]
  },
  {
   "cell_type": "code",
   "execution_count": 51,
   "id": "7938a74f-a42e-42e0-9cc2-b9b8adb1085e",
   "metadata": {},
   "outputs": [
    {
     "data": {
      "text/html": [
       "<div><div style = \"float: left;\"><span>13×2 DataFrame</span></div><div style = \"clear: both;\"></div></div><div class = \"data-frame\" style = \"overflow-x: scroll;\"><table class = \"data-frame\" style = \"margin-bottom: 6px;\"><thead><tr class = \"header\"><th class = \"rowNumber\" style = \"font-weight: bold; text-align: right;\">Row</th><th style = \"text-align: left;\">fueltype</th><th style = \"text-align: left;\">pmax_sum</th></tr><tr class = \"subheader headerLastRow\"><th class = \"rowNumber\" style = \"font-weight: bold; text-align: right;\"></th><th title = \"String\" style = \"text-align: left;\">String</th><th title = \"Float64\" style = \"text-align: left;\">Float64</th></tr></thead><tbody><tr><td class = \"rowNumber\" style = \"font-weight: bold; text-align: right;\">1</td><td style = \"text-align: left;\">Conventional Hydroelectric</td><td style = \"text-align: right;\">8.9</td></tr><tr><td class = \"rowNumber\" style = \"font-weight: bold; text-align: right;\">2</td><td style = \"text-align: left;\">Other Waste Biomass</td><td style = \"text-align: right;\">12.3</td></tr><tr><td class = \"rowNumber\" style = \"font-weight: bold; text-align: right;\">3</td><td style = \"text-align: left;\">Natural Gas Fired Combustion Turbine</td><td style = \"text-align: right;\">1656.3</td></tr><tr><td class = \"rowNumber\" style = \"font-weight: bold; text-align: right;\">4</td><td style = \"text-align: left;\">Petroleum Liquids</td><td style = \"text-align: right;\">4.5</td></tr><tr><td class = \"rowNumber\" style = \"font-weight: bold; text-align: right;\">5</td><td style = \"text-align: left;\">Landfill Gas</td><td style = \"text-align: right;\">17.0</td></tr><tr><td class = \"rowNumber\" style = \"font-weight: bold; text-align: right;\">6</td><td style = \"text-align: left;\">Natural Gas Fired Combined Cycle</td><td style = \"text-align: right;\">1346.2</td></tr><tr><td class = \"rowNumber\" style = \"font-weight: bold; text-align: right;\">7</td><td style = \"text-align: left;\">Solar Photovoltaic</td><td style = \"text-align: right;\">100.848</td></tr><tr><td class = \"rowNumber\" style = \"font-weight: bold; text-align: right;\">8</td><td style = \"text-align: left;\">Natural Gas Internal Combustion Engine</td><td style = \"text-align: right;\">3.6</td></tr><tr><td class = \"rowNumber\" style = \"font-weight: bold; text-align: right;\">9</td><td style = \"text-align: left;\">Onshore Wind Turbine</td><td style = \"text-align: right;\">194.0</td></tr><tr><td class = \"rowNumber\" style = \"font-weight: bold; text-align: right;\">10</td><td style = \"text-align: left;\">Batteries</td><td style = \"text-align: right;\">87.0</td></tr><tr><td class = \"rowNumber\" style = \"font-weight: bold; text-align: right;\">11</td><td style = \"text-align: left;\">Hydroelectric Pumped Storage</td><td style = \"text-align: right;\">42.0</td></tr><tr><td class = \"rowNumber\" style = \"font-weight: bold; text-align: right;\">12</td><td style = \"text-align: left;\">Other Natural Gas</td><td style = \"text-align: right;\">7.1</td></tr><tr><td class = \"rowNumber\" style = \"font-weight: bold; text-align: right;\">13</td><td style = \"text-align: left;\">IMPORT</td><td style = \"text-align: right;\">1400.0</td></tr></tbody></table></div>"
      ],
      "text/latex": [
       "\\begin{tabular}{r|cc}\n",
       "\t& fueltype & pmax\\_sum\\\\\n",
       "\t\\hline\n",
       "\t& String & Float64\\\\\n",
       "\t\\hline\n",
       "\t1 & Conventional Hydroelectric & 8.9 \\\\\n",
       "\t2 & Other Waste Biomass & 12.3 \\\\\n",
       "\t3 & Natural Gas Fired Combustion Turbine & 1656.3 \\\\\n",
       "\t4 & Petroleum Liquids & 4.5 \\\\\n",
       "\t5 & Landfill Gas & 17.0 \\\\\n",
       "\t6 & Natural Gas Fired Combined Cycle & 1346.2 \\\\\n",
       "\t7 & Solar Photovoltaic & 100.848 \\\\\n",
       "\t8 & Natural Gas Internal Combustion Engine & 3.6 \\\\\n",
       "\t9 & Onshore Wind Turbine & 194.0 \\\\\n",
       "\t10 & Batteries & 87.0 \\\\\n",
       "\t11 & Hydroelectric Pumped Storage & 42.0 \\\\\n",
       "\t12 & Other Natural Gas & 7.1 \\\\\n",
       "\t13 & IMPORT & 1400.0 \\\\\n",
       "\\end{tabular}\n"
      ],
      "text/plain": [
       "\u001b[1m13×2 DataFrame\u001b[0m\n",
       "\u001b[1m Row \u001b[0m│\u001b[1m fueltype                          \u001b[0m\u001b[1m pmax_sum \u001b[0m\n",
       "     │\u001b[90m String                            \u001b[0m\u001b[90m Float64  \u001b[0m\n",
       "─────┼─────────────────────────────────────────────\n",
       "   1 │ Conventional Hydroelectric            8.9\n",
       "   2 │ Other Waste Biomass                  12.3\n",
       "   3 │ Natural Gas Fired Combustion Tur…  1656.3\n",
       "   4 │ Petroleum Liquids                     4.5\n",
       "   5 │ Landfill Gas                         17.0\n",
       "   6 │ Natural Gas Fired Combined Cycle   1346.2\n",
       "   7 │ Solar Photovoltaic                  100.848\n",
       "   8 │ Natural Gas Internal Combustion …     3.6\n",
       "   9 │ Onshore Wind Turbine                194.0\n",
       "  10 │ Batteries                            87.0\n",
       "  11 │ Hydroelectric Pumped Storage         42.0\n",
       "  12 │ Other Natural Gas                     7.1\n",
       "  13 │ IMPORT                             1400.0"
      ]
     },
     "execution_count": 51,
     "metadata": {},
     "output_type": "execute_result"
    }
   ],
   "source": [
    "combine(groupby(gens, :fueltype), :pmax => sum)"
   ]
  },
  {
   "cell_type": "code",
   "execution_count": 43,
   "id": "75613a24-3ffa-4b86-a359-1819d8ca2187",
   "metadata": {},
   "outputs": [
    {
     "data": {
      "text/plain": [
       "0.9202622046095534"
      ]
     },
     "execution_count": 43,
     "metadata": {},
     "output_type": "execute_result"
    }
   ],
   "source": [
    "sum(solution.shedding[:, :shed]) / sum(buses[:, :pd])"
   ]
  },
  {
   "cell_type": "code",
   "execution_count": null,
   "id": "e7c08232-5308-4149-b5cb-6e2a92f336a2",
   "metadata": {},
   "outputs": [],
   "source": []
  }
 ],
 "metadata": {
  "kernelspec": {
   "display_name": "Julia 1.8.3",
   "language": "julia",
   "name": "julia-1.8"
  },
  "language_info": {
   "file_extension": ".jl",
   "mimetype": "application/julia",
   "name": "julia",
   "version": "1.8.3"
  }
 },
 "nbformat": 4,
 "nbformat_minor": 5
}
