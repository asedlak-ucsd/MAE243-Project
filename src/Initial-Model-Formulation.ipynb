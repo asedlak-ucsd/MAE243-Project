{
 "cells": [
  {
   "cell_type": "markdown",
   "id": "14620f26-1fd1-434d-b51b-15523a568e25",
   "metadata": {},
   "source": [
    "# Model Formulation\n",
    "\n",
    "This notebook can be used to run initial model with DCOPF and a basic budget variable. Before running this nodebook please refer to `Test-System-Data-Processing.ipynb` to preprocess generator, lines, buses, and loads data. "
   ]
  },
  {
   "cell_type": "code",
   "execution_count": 1,
   "id": "6a1fde6e-1296-4a9b-af6a-09084880e61b",
   "metadata": {},
   "outputs": [],
   "source": [
    "using JuMP, Gurobi\n",
    "using DataFrames, CSV"
   ]
  },
  {
   "cell_type": "code",
   "execution_count": 127,
   "id": "c9766d6d-22ef-464d-8417-e7308a634264",
   "metadata": {},
   "outputs": [
    {
     "name": "stdout",
     "output_type": "stream",
     "text": [
      "Consistent buses: true\n"
     ]
    }
   ],
   "source": [
    "# Global path to test system datasets\n",
    "PATH = joinpath(pwd(), \"..\", \"data\", \"test_system\") \n",
    "\n",
    "# Load each of the San Diego test system files \n",
    "gens = CSV.read(joinpath(PATH, \"gens.csv\"), DataFrame);\n",
    "lines = CSV.read(joinpath(PATH, \"lines.csv\"), DataFrame);\n",
    "buses = CSV.read(joinpath(PATH, \"buses.csv\"), DataFrame);\n",
    "loads = CSV.read(joinpath(PATH, \"loads_24h_sp.csv\"), DataFrame);\n",
    "\n",
    "gens = gens[gens[:, :fueltype] .≠ \"Synchronous Condenser\", :]\n",
    "\n",
    "# Add load to bus dataset equal to first hour of load\n",
    "buses[:, :pd] = loads[:, 2];\n",
    "println(\"Consistent buses: \", all(buses[:, :bus] .== loads[:, :bus]))\n",
    "\n",
    "# Add line susceptance B = X / (R² + X²)\n",
    "lines[:, :sus] = lines.x ./ (lines.r .^2 + lines.x .^2);"
   ]
  },
  {
   "cell_type": "code",
   "execution_count": 129,
   "id": "5eda1d57-287c-419b-99b1-67b9786b6b42",
   "metadata": {},
   "outputs": [
    {
     "data": {
      "text/plain": [
       "transport_model (generic function with 1 method)"
      ]
     },
     "execution_count": 129,
     "metadata": {},
     "output_type": "execute_result"
    }
   ],
   "source": [
    "function transport_model(gens, lines, buses)\n",
    "    \"\"\"\n",
    "    Function to solve DC OPF problem \n",
    "    Inputs:\n",
    "        gens -- dataframe with generator info and costs\n",
    "        lines -- dataframe with transmission lines info\n",
    "        buses -- dataframe with bus types and loads\n",
    "    \"\"\"\n",
    "    # Sets\n",
    "    G = 1:nrow(gens)       # G: Set of all generators\n",
    "    N = 1:nrow(buses)      # N: Set of all network nodes\n",
    "    L = 1:nrow(lines)      # L: Set of all lines/branches\n",
    "    fbus = lines[!,:f_bus] # All from buses\n",
    "    tbus = lines[!,:t_bus] # All to buses    \n",
    "    demand = buses[!,:pd]  # Demand at bus all buses\n",
    "\n",
    "    # Parameters\n",
    "    shed_cost = 1000 # Cost of load sheding\n",
    "    baseMVA = 100\n",
    "    \n",
    "    # Model\n",
    "    DCOPF = Model(()->Gurobi.Optimizer())\n",
    "    set_optimizer_attribute(DCOPF, \"NumericFocus\", 2)\n",
    "    \n",
    "    # Decision variables   \n",
    "    @variables(DCOPF, begin\n",
    "        GEN[G]          # Generation of each generator \n",
    "        SHED[N] ≥ 0     # Load sheading at bus N\n",
    "        FLOW[N,N]       # Flows between all pairs of nodes\n",
    "    end)\n",
    "                \n",
    "    # Objective function (Note: Using just the linear part of quadratic cost)\n",
    "    @objective(DCOPF, Min, \n",
    "        sum(gens[g,:c1] * GEN[g] for g ∈ G) + sum(shed_cost*SHED[i] for i ∈ N))\n",
    "\n",
    "    @constraint(DCOPF, cShed[i ∈ N], SHED[i] ≤ demand[i])\n",
    "    \n",
    "    # Supply demand balances: sum(generation) + shedding - demand = sum(flows)\n",
    "    @constraint(DCOPF, cBalance[i ∈ N], \n",
    "        sum(GEN[g] for g ∈ G[gens.bus .== i])\n",
    "        - demand[i] + SHED[i]\n",
    "         == sum(FLOW[i,j] for j ∈ fbus[tbus .== i]))\n",
    "\n",
    "    # Max and min generation constraints\n",
    "    @constraint(DCOPF, cMaxGen[g ∈ G], GEN[g] ≤ gens[g,:pmax])\n",
    "    @constraint(DCOPF, cMinGen[g ∈ G], GEN[g] ≥ gens[g,:pmin])\n",
    "    \n",
    "    # Max line flow constraints\n",
    "    @constraint(DCOPF, cLineLimits[l ∈ L], \n",
    "        FLOW[lines[l,:f_bus], lines[l,:t_bus]] ≤ lines[l,:rate_a] * baseMVA)  \n",
    "    \n",
    "    # Anti-symmetric flow constraints\n",
    "    @constraint(DCOPF, cFlowSymmetric[i in N, j in N],\n",
    "                    FLOW[i,j] == -FLOW[j,i])\n",
    "    \n",
    "    return DCOPF\n",
    "end"
   ]
  },
  {
   "cell_type": "code",
   "execution_count": 131,
   "id": "43bc2507-f1f2-49fe-9d81-120069220be1",
   "metadata": {},
   "outputs": [
    {
     "data": {
      "text/plain": [
       "model_outputs (generic function with 1 method)"
      ]
     },
     "execution_count": 131,
     "metadata": {},
     "output_type": "execute_result"
    }
   ],
   "source": [
    "function model_outputs(model, gens, lines, buses)\n",
    "\n",
    "    N = 1:nrow(buses)      # N: Set of all network nodes\n",
    "    fbus = lines[!,:f_bus] # All from buses\n",
    "    tbus = lines[!,:t_bus] # All to buses\n",
    "    baseMVA = 100\n",
    "    \n",
    "    generation = DataFrame(\n",
    "        id = gens.id,\n",
    "        node = gens.bus,\n",
    "        gen = value.(model[:GEN]).data\n",
    "        )\n",
    "    \n",
    "    # Angles of each bus\n",
    "    #angles = value.(model[:THETA]).data\n",
    "    \n",
    "    flows = DataFrame(\n",
    "        fbus = fbus,\n",
    "        tbus = tbus,\n",
    "        #flow = value.(model[:FLOW]).data #baseMVA .* lines.sus .* (angles[fbus] .- angles[tbus])\n",
    "    )\n",
    "    \n",
    "    prices = DataFrame(\n",
    "        node = N,\n",
    "        value = dual.(model[:cBalance]).data\n",
    "    )\n",
    "    # Amound of load shed at each bus\n",
    "    shedding = DataFrame(\n",
    "        node = N,\n",
    "        shed =value.(model[:SHED]).data\n",
    "    )\n",
    "    \n",
    "    return (\n",
    "        generation = generation, \n",
    "        #angles,\n",
    "        flows,\n",
    "        prices,\n",
    "        shedding,\n",
    "        cost = objective_value(model),\n",
    "        status = termination_status(model)\n",
    "    )\n",
    "end"
   ]
  },
  {
   "cell_type": "code",
   "execution_count": 133,
   "id": "c8a7d431-8576-46bd-bba7-34f61ef5e398",
   "metadata": {},
   "outputs": [
    {
     "name": "stdout",
     "output_type": "stream",
     "text": [
      "Set parameter Username\n",
      "Set parameter LicenseID to value 2669913\n",
      "Academic license - for non-commercial use only - expires 2026-05-22\n",
      "Set parameter NumericFocus to value 2\n"
     ]
    },
    {
     "data": {
      "text/plain": [
       "A JuMP Model\n",
       "├ solver: Gurobi\n",
       "├ objective_sense: MIN_SENSE\n",
       "│ └ objective_function_type: AffExpr\n",
       "├ num_variables: 239754\n",
       "├ num_constraints: 242102\n",
       "│ ├ AffExpr in MOI.EqualTo{Float64}: 239610\n",
       "│ ├ AffExpr in MOI.GreaterThan{Float64}: 144\n",
       "│ ├ AffExpr in MOI.LessThan{Float64}: 1859\n",
       "│ └ VariableRef in MOI.GreaterThan{Float64}: 489\n",
       "└ Names registered in the model\n",
       "  └ :FLOW, :GEN, :SHED, :cBalance, :cFlowSymmetric, :cLineLimits, :cMaxGen, :cMinGen, :cShed"
      ]
     },
     "execution_count": 133,
     "metadata": {},
     "output_type": "execute_result"
    }
   ],
   "source": [
    "dcopf = transport_model(gens, lines, buses)\n",
    "\n",
    "#dcopf = initialize_model(gens, lines, buses)"
   ]
  },
  {
   "cell_type": "code",
   "execution_count": 135,
   "id": "7c0be71d-6073-4769-a488-f935df1fb7d5",
   "metadata": {},
   "outputs": [
    {
     "name": "stdout",
     "output_type": "stream",
     "text": [
      "Set parameter NumericFocus to value 2\n",
      "Gurobi Optimizer version 12.0.2 build v12.0.2rc0 (mac64[arm] - Darwin 24.5.0 24F74)\n",
      "\n",
      "CPU model: Apple M2 Ultra\n",
      "Thread count: 24 physical cores, 24 logical processors, using up to 24 threads\n",
      "\n",
      "Non-default parameters:\n",
      "NumericFocus  2\n",
      "\n",
      "Optimize a model with 241613 rows, 239754 columns and 481601 nonzeros\n",
      "Model fingerprint: 0xe7b2ec6e\n",
      "Coefficient statistics:\n",
      "  Matrix range     [1e+00, 2e+00]\n",
      "  Objective range  [7e+00, 1e+03]\n",
      "  Bounds range     [0e+00, 0e+00]\n",
      "  RHS range        [2e-03, 3e+03]\n",
      "Presolve removed 241247 rows and 239017 columns\n",
      "Presolve time: 0.10s\n",
      "Presolved: 366 rows, 737 columns, 1217 nonzeros\n",
      "\n",
      "Concurrent LP optimizer: primal simplex, dual simplex, and barrier\n",
      "Showing barrier log only...\n",
      "\n",
      "Ordering time: 0.00s\n",
      "\n",
      "Barrier statistics:\n",
      " AA' NZ     : 4.800e+02\n",
      " Factor NZ  : 3.868e+03\n",
      " Factor Ops : 4.674e+04 (less than 1 second per iteration)\n",
      " Threads    : 1\n",
      "\n",
      "                  Objective                Residual\n",
      "Iter       Primal          Dual         Primal    Dual     Compl     Time\n",
      "   0   1.43394217e+09 -1.69584134e+08  6.00e+03 3.44e+03  7.65e+06     0s\n",
      "   1   2.26765741e+08 -1.65390481e+08  9.58e+02 5.46e-12  1.29e+06     0s\n",
      "   2   3.06221875e+07 -1.01113132e+08  1.30e+02 5.46e-12  2.11e+05     0s\n",
      "   3   4.64823988e+06 -3.42352442e+07  2.12e+01 6.37e-12  3.93e+04     0s\n",
      "\n",
      "Barrier performed 3 iterations in 0.10 seconds (0.19 work units)\n",
      "Barrier solve interrupted - model solved by another algorithm\n",
      "\n",
      "\n",
      "Solved with dual simplex\n",
      "Iteration    Objective       Primal Inf.    Dual Inf.      Time\n",
      "     297    2.8032702e+04   0.000000e+00   0.000000e+00      0s\n",
      "\n",
      "Solved in 297 iterations and 0.18 seconds (0.26 work units)\n",
      "Optimal objective  2.803270214e+04\n",
      "\n",
      "User-callback calls 118837, time in user-callback 0.01 sec\n"
     ]
    }
   ],
   "source": [
    "optimize!(dcopf)"
   ]
  },
  {
   "cell_type": "code",
   "execution_count": 137,
   "id": "f2ec8e2b-e002-47f5-bd34-988b7815e848",
   "metadata": {},
   "outputs": [],
   "source": [
    "solution = model_outputs(dcopf, gens, lines, buses);"
   ]
  },
  {
   "cell_type": "code",
   "execution_count": 139,
   "id": "2c440843-cadc-49d4-a2f7-1ef4c9cd99ba",
   "metadata": {},
   "outputs": [
    {
     "data": {
      "text/html": [
       "<div><div style = \"float: left;\"><span>13×3 DataFrame</span></div><div style = \"clear: both;\"></div></div><div class = \"data-frame\" style = \"overflow-x: scroll;\"><table class = \"data-frame\" style = \"margin-bottom: 6px;\"><thead><tr class = \"header\"><th class = \"rowNumber\" style = \"font-weight: bold; text-align: right;\">Row</th><th style = \"text-align: left;\">fueltype</th><th style = \"text-align: left;\">gen_sum</th><th style = \"text-align: left;\">max_gen</th></tr><tr class = \"subheader headerLastRow\"><th class = \"rowNumber\" style = \"font-weight: bold; text-align: right;\"></th><th title = \"String\" style = \"text-align: left;\">String</th><th title = \"Float64\" style = \"text-align: left;\">Float64</th><th title = \"Float64\" style = \"text-align: left;\">Float64</th></tr></thead><tbody><tr><td class = \"rowNumber\" style = \"font-weight: bold; text-align: right;\">1</td><td style = \"text-align: left;\">Conventional Hydroelectric</td><td style = \"text-align: right;\">0.0</td><td style = \"text-align: right;\">8.9</td></tr><tr><td class = \"rowNumber\" style = \"font-weight: bold; text-align: right;\">2</td><td style = \"text-align: left;\">Other Waste Biomass</td><td style = \"text-align: right;\">0.0</td><td style = \"text-align: right;\">12.3</td></tr><tr><td class = \"rowNumber\" style = \"font-weight: bold; text-align: right;\">3</td><td style = \"text-align: left;\">Natural Gas Fired Combustion Turbine</td><td style = \"text-align: right;\">73.2</td><td style = \"text-align: right;\">1656.3</td></tr><tr><td class = \"rowNumber\" style = \"font-weight: bold; text-align: right;\">4</td><td style = \"text-align: left;\">Petroleum Liquids</td><td style = \"text-align: right;\">0.0</td><td style = \"text-align: right;\">4.5</td></tr><tr><td class = \"rowNumber\" style = \"font-weight: bold; text-align: right;\">5</td><td style = \"text-align: left;\">Landfill Gas</td><td style = \"text-align: right;\">5.4</td><td style = \"text-align: right;\">17.0</td></tr><tr><td class = \"rowNumber\" style = \"font-weight: bold; text-align: right;\">6</td><td style = \"text-align: left;\">Natural Gas Fired Combined Cycle</td><td style = \"text-align: right;\">519.692</td><td style = \"text-align: right;\">1346.2</td></tr><tr><td class = \"rowNumber\" style = \"font-weight: bold; text-align: right;\">7</td><td style = \"text-align: left;\">Solar Photovoltaic</td><td style = \"text-align: right;\">684.085</td><td style = \"text-align: right;\">684.085</td></tr><tr><td class = \"rowNumber\" style = \"font-weight: bold; text-align: right;\">8</td><td style = \"text-align: left;\">Natural Gas Internal Combustion Engine</td><td style = \"text-align: right;\">3.6</td><td style = \"text-align: right;\">3.6</td></tr><tr><td class = \"rowNumber\" style = \"font-weight: bold; text-align: right;\">9</td><td style = \"text-align: left;\">Onshore Wind Turbine</td><td style = \"text-align: right;\">194.0</td><td style = \"text-align: right;\">194.0</td></tr><tr><td class = \"rowNumber\" style = \"font-weight: bold; text-align: right;\">10</td><td style = \"text-align: left;\">Batteries</td><td style = \"text-align: right;\">0.0</td><td style = \"text-align: right;\">96.1</td></tr><tr><td class = \"rowNumber\" style = \"font-weight: bold; text-align: right;\">11</td><td style = \"text-align: left;\">Hydroelectric Pumped Storage</td><td style = \"text-align: right;\">0.0</td><td style = \"text-align: right;\">42.0</td></tr><tr><td class = \"rowNumber\" style = \"font-weight: bold; text-align: right;\">12</td><td style = \"text-align: left;\">Other Natural Gas</td><td style = \"text-align: right;\">0.0</td><td style = \"text-align: right;\">7.1</td></tr><tr><td class = \"rowNumber\" style = \"font-weight: bold; text-align: right;\">13</td><td style = \"text-align: left;\">IMPORT</td><td style = \"text-align: right;\">0.0</td><td style = \"text-align: right;\">2200.0</td></tr></tbody></table></div>"
      ],
      "text/latex": [
       "\\begin{tabular}{r|ccc}\n",
       "\t& fueltype & gen\\_sum & max\\_gen\\\\\n",
       "\t\\hline\n",
       "\t& String & Float64 & Float64\\\\\n",
       "\t\\hline\n",
       "\t1 & Conventional Hydroelectric & 0.0 & 8.9 \\\\\n",
       "\t2 & Other Waste Biomass & 0.0 & 12.3 \\\\\n",
       "\t3 & Natural Gas Fired Combustion Turbine & 73.2 & 1656.3 \\\\\n",
       "\t4 & Petroleum Liquids & 0.0 & 4.5 \\\\\n",
       "\t5 & Landfill Gas & 5.4 & 17.0 \\\\\n",
       "\t6 & Natural Gas Fired Combined Cycle & 519.692 & 1346.2 \\\\\n",
       "\t7 & Solar Photovoltaic & 684.085 & 684.085 \\\\\n",
       "\t8 & Natural Gas Internal Combustion Engine & 3.6 & 3.6 \\\\\n",
       "\t9 & Onshore Wind Turbine & 194.0 & 194.0 \\\\\n",
       "\t10 & Batteries & 0.0 & 96.1 \\\\\n",
       "\t11 & Hydroelectric Pumped Storage & 0.0 & 42.0 \\\\\n",
       "\t12 & Other Natural Gas & 0.0 & 7.1 \\\\\n",
       "\t13 & IMPORT & 0.0 & 2200.0 \\\\\n",
       "\\end{tabular}\n"
      ],
      "text/plain": [
       "\u001b[1m13×3 DataFrame\u001b[0m\n",
       "\u001b[1m Row \u001b[0m│\u001b[1m fueltype                          \u001b[0m\u001b[1m gen_sum \u001b[0m\u001b[1m max_gen  \u001b[0m\n",
       "     │\u001b[90m String                            \u001b[0m\u001b[90m Float64 \u001b[0m\u001b[90m Float64  \u001b[0m\n",
       "─────┼──────────────────────────────────────────────────────\n",
       "   1 │ Conventional Hydroelectric           0.0       8.9\n",
       "   2 │ Other Waste Biomass                  0.0      12.3\n",
       "   3 │ Natural Gas Fired Combustion Tur…   73.2    1656.3\n",
       "   4 │ Petroleum Liquids                    0.0       4.5\n",
       "   5 │ Landfill Gas                         5.4      17.0\n",
       "   6 │ Natural Gas Fired Combined Cycle   519.692  1346.2\n",
       "   7 │ Solar Photovoltaic                 684.085   684.085\n",
       "   8 │ Natural Gas Internal Combustion …    3.6       3.6\n",
       "   9 │ Onshore Wind Turbine               194.0     194.0\n",
       "  10 │ Batteries                            0.0      96.1\n",
       "  11 │ Hydroelectric Pumped Storage         0.0      42.0\n",
       "  12 │ Other Natural Gas                    0.0       7.1\n",
       "  13 │ IMPORT                               0.0    2200.0"
      ]
     },
     "execution_count": 139,
     "metadata": {},
     "output_type": "execute_result"
    }
   ],
   "source": [
    "# Get generation by type\n",
    "gdf = groupby(innerjoin(gens, solution.generation, on = :id), :fueltype)\n",
    "df = combine(gdf, :gen => sum)\n",
    "df[:, :max_gen] .= combine(groupby(gens, :fueltype), :pmax => sum)[:, :pmax_sum]\n",
    "df"
   ]
  },
  {
   "cell_type": "code",
   "execution_count": 141,
   "id": "75613a24-3ffa-4b86-a359-1819d8ca2187",
   "metadata": {},
   "outputs": [
    {
     "data": {
      "text/plain": [
       "0.0142060444154652"
      ]
     },
     "execution_count": 141,
     "metadata": {},
     "output_type": "execute_result"
    }
   ],
   "source": [
    "sum(solution.shedding[:, :shed]) / sum(buses[:, :pd])"
   ]
  },
  {
   "cell_type": "code",
   "execution_count": 53,
   "id": "e7c08232-5308-4149-b5cb-6e2a92f336a2",
   "metadata": {},
   "outputs": [
    {
     "data": {
      "text/plain": [
       "\"shed.csv\""
      ]
     },
     "execution_count": 53,
     "metadata": {},
     "output_type": "execute_result"
    }
   ],
   "source": [
    "\n",
    "\n",
    "CSV.write(\"shed.csv\", solution.shedding)"
   ]
  },
  {
   "cell_type": "code",
   "execution_count": 155,
   "id": "606cb0df-834b-4f4c-8c0a-0f32ceac5f0b",
   "metadata": {},
   "outputs": [
    {
     "data": {
      "text/plain": [
       "1464.0"
      ]
     },
     "execution_count": 155,
     "metadata": {},
     "output_type": "execute_result"
    }
   ],
   "source": [
    "maximum(lines[:, :rate_a])*100"
   ]
  },
  {
   "cell_type": "code",
   "execution_count": 309,
   "id": "d2419dc9-5b8b-4068-9d9d-d4cbf1bae310",
   "metadata": {},
   "outputs": [
    {
     "data": {
      "text/plain": [
       "initialize_model (generic function with 1 method)"
      ]
     },
     "execution_count": 309,
     "metadata": {},
     "output_type": "execute_result"
    }
   ],
   "source": [
    "function initialize_model(gens, lines, buses)\n",
    "    \"\"\"\n",
    "    Function to solve DC OPF problem \n",
    "    Inputs:\n",
    "        gens -- dataframe with generator info and costs\n",
    "        lines -- dataframe with transmission lines info\n",
    "        buses -- dataframe with bus types and loads\n",
    "    \"\"\"\n",
    "    # Sets\n",
    "    G = 1:nrow(gens)       # G: Set of all generators\n",
    "    N = 1:nrow(buses)      # N: Set of all network nodes\n",
    "    L = 1:nrow(lines)      # L: Set of all lines/branches\n",
    "    fbus = lines[!,:f_bus] # All from buses\n",
    "    tbus = lines[!,:t_bus] # All to buses    \n",
    "    demand = buses[!,:pd]  # Demand at bus all buses\n",
    "\n",
    "    # Parameters\n",
    "    baseMVA = 100      # The base MVA is 100 MVA\n",
    "    θlim = π*(30/180)  # Absolute max angle limit in rad\n",
    "    slack_bus = 416    # Set slack bus to one with many CTs\n",
    "    shed_cost = 1000   # Cost of load sheding\n",
    "\n",
    "    # Toy parameters for a limited investment in solar at each bus\n",
    "    budget = 0\n",
    "    solar_cost = 0.1475\n",
    "    \n",
    "    # Model\n",
    "    DCOPF = Model(()->Gurobi.Optimizer())\n",
    "    set_optimizer_attribute(DCOPF, \"NumericFocus\", 2)\n",
    "    \n",
    "    # Decision variables   \n",
    "    @variables(DCOPF, begin\n",
    "        GEN[G]          # Generation of each generator \n",
    "        SHED[N] ≥ 0     # Load sheading at bus N\n",
    "        THETA[N]        # Voltage phase angle of bus\n",
    "        FLOW[N,N]       # Flows between all pairs of nodes\n",
    "        \n",
    "    end)\n",
    "                \n",
    "    # Objective function (Note: Using just the linear part of quadratic cost)\n",
    "    @objective(DCOPF, Min, \n",
    "        sum(gens[g,:c1] * GEN[g] for g ∈ G) + sum(shed_cost*SHED[i] for i ∈ N))\n",
    "    \n",
    "    # Supply demand balances: sum(generation) + shedding - demand - 0.5*sum(losses) = sum(flows)\n",
    "    @constraint(DCOPF, cBalance[i ∈ N], \n",
    "        sum(GEN[g] for g ∈ G[gens.bus .== i])\n",
    "        - demand[i] + SHED[i]\n",
    "         == sum(FLOW[i,j] for j ∈ tbus[fbus .== i]))\n",
    "    \n",
    "    # Max and min generation constraints\n",
    "    @constraint(DCOPF, cMaxGen[g ∈ G], GEN[g] ≤ gens[g,:pmax])\n",
    "    @constraint(DCOPF, cMinGen[g ∈ G], GEN[g] ≥ gens[g,:pmin])\n",
    "    \n",
    "    # Max line flow constraints\n",
    "    @constraint(DCOPF, cLineLimits[l ∈ L], \n",
    "        FLOW[lines[l,:f_bus], lines[l,:t_bus]] ≤ lines[l,:rate_a]*baseMVA) \n",
    "\n",
    "    # Create slack bus with theta=0\n",
    "    fix(THETA[slack_bus], 0)\n",
    "    \n",
    "    # Angle limits \n",
    "    #@constraint(DCOPF, cAngleLimitsMax[l ∈ L], \n",
    "    #    (THETA[fbus[l]] - THETA[tbus[l]]) ≤  θlim)\n",
    "    #@constraint(DCOPF, cAngleLimitsMin[l ∈ L], \n",
    "    #    (THETA[fbus[l]] - THETA[tbus[l]]) ≥ -θlim)\n",
    "                    \n",
    "    # Flow constraints on each branch\n",
    "    @constraint(DCOPF, cLineFlows[l ∈ L],\n",
    "            FLOW[fbus[l], tbus[l]] ==\n",
    "            baseMVA*lines[l,:sus]*(THETA[fbus[l]] - THETA[tbus[l]]))\n",
    "    \n",
    "    return DCOPF\n",
    "end"
   ]
  },
  {
   "cell_type": "code",
   "execution_count": 368,
   "id": "330de81e-b0dd-420f-bd7e-7565f3ab2818",
   "metadata": {},
   "outputs": [
    {
     "data": {
      "text/plain": [
       "1226-element Vector{Float64}:\n",
       "  191.0\n",
       "   64.0\n",
       "   56.99999999999999\n",
       "   64.0\n",
       "   64.0\n",
       "   64.0\n",
       " 1056.0\n",
       "  869.9999999999999\n",
       " 1158.0\n",
       " 1158.0\n",
       "  250.0\n",
       " 2811.0\n",
       " 1462.0\n",
       "    ⋮\n",
       "  129.9168355\n",
       "   79.0\n",
       "   73.099625\n",
       "   46.88339725\n",
       "   22.0\n",
       "  194.7702155\n",
       "  101.0\n",
       "  493.0\n",
       "  529.0\n",
       "   20.0\n",
       "  101.5685185\n",
       "  193.5590785"
      ]
     },
     "execution_count": 368,
     "metadata": {},
     "output_type": "execute_result"
    }
   ],
   "source": [
    "lines[!,:rate_a]*100"
   ]
  },
  {
   "cell_type": "code",
   "execution_count": null,
   "id": "cd92f9ae-c2c7-4d30-8cbb-934a0fb4344c",
   "metadata": {},
   "outputs": [],
   "source": []
  }
 ],
 "metadata": {
  "kernelspec": {
   "display_name": "Julia 1.8.3",
   "language": "julia",
   "name": "julia-1.8"
  },
  "language_info": {
   "file_extension": ".jl",
   "mimetype": "application/julia",
   "name": "julia",
   "version": "1.8.3"
  }
 },
 "nbformat": 4,
 "nbformat_minor": 5
}
